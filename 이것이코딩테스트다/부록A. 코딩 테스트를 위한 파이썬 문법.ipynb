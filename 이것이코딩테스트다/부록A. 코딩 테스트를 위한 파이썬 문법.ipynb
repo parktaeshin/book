{
 "cells": [
  {
   "cell_type": "markdown",
   "id": "a4b615cb",
   "metadata": {},
   "source": [
    "# 수 자료형\n",
    "- 정수를 기본으로 사용"
   ]
  },
  {
   "cell_type": "markdown",
   "id": "84c3dc6c",
   "metadata": {},
   "source": [
    "## 정수형\n",
    "- 정수를 다루는 자료형\n",
    "- 정수형에는 양의 정수, 음의 정수, 0이 있음"
   ]
  },
  {
   "cell_type": "code",
   "execution_count": 1,
   "id": "a6659468",
   "metadata": {},
   "outputs": [
    {
     "name": "stdout",
     "output_type": "stream",
     "text": [
      "1000\n",
      "-7\n",
      "0\n"
     ]
    }
   ],
   "source": [
    "a = 1000\n",
    "print(a)\n",
    "\n",
    "\n",
    "a = -7\n",
    "print(a)\n",
    "\n",
    "a = 0\n",
    "print(a)"
   ]
  },
  {
   "cell_type": "markdown",
   "id": "63cf9810",
   "metadata": {},
   "source": [
    "## 실수형"
   ]
  },
  {
   "cell_type": "code",
   "execution_count": 2,
   "id": "7cd09ed4",
   "metadata": {},
   "outputs": [
    {
     "name": "stdout",
     "output_type": "stream",
     "text": [
      "157.93\n",
      "-1837.2\n",
      "5.0\n",
      "-7.0\n"
     ]
    }
   ],
   "source": [
    "a = 157.93\n",
    "print(a)\n",
    "\n",
    "a = -1837.2\n",
    "print(a)\n",
    "\n",
    "a = 5.\n",
    "print(a)\n",
    "\n",
    "a = -7.\n",
    "print(a)"
   ]
  },
  {
   "cell_type": "markdown",
   "id": "106c18ac",
   "metadata": {},
   "source": [
    "- 실수형 데이터를 표현하는 방식으로 파이썬에서는 e나 E를 이용한 지수 표현 방식을 이용\n",
    "- e 다음에 오는 수는 10의 지수부를 의미"
   ]
  },
  {
   "cell_type": "code",
   "execution_count": 3,
   "id": "1723cf2e",
   "metadata": {},
   "outputs": [
    {
     "name": "stdout",
     "output_type": "stream",
     "text": [
      "1000000000.0\n",
      "752.4\n",
      "3.954\n"
     ]
    }
   ],
   "source": [
    "# 10억의 지수 표현 방식\n",
    "a = 1e9\n",
    "print(a)\n",
    "\n",
    "# 752.5\n",
    "a = 75.24e1\n",
    "print(a)\n",
    "\n",
    "# 3.954\n",
    "a = 3954e-3\n",
    "print(a)"
   ]
  },
  {
   "cell_type": "markdown",
   "id": "48ff7340",
   "metadata": {},
   "source": [
    "- 컴퓨터가 실수를 정확히 표현하지 못한다는 사실을 기억!"
   ]
  },
  {
   "cell_type": "code",
   "execution_count": 4,
   "id": "355c5b8e",
   "metadata": {},
   "outputs": [
    {
     "name": "stdout",
     "output_type": "stream",
     "text": [
      "0.8999999999999999\n",
      "False\n"
     ]
    }
   ],
   "source": [
    "a = 0.3 + 0.6\n",
    "print(a)\n",
    "\n",
    "if a == 0.9:\n",
    "    print(True)\n",
    "else :\n",
    "    print(False)"
   ]
  },
  {
   "cell_type": "markdown",
   "id": "2113b62f",
   "metadata": {},
   "source": [
    "- 소수점 값을 비교하는 작업이 필요한 문제라면 round()함수 이용하기"
   ]
  },
  {
   "cell_type": "code",
   "execution_count": 6,
   "id": "3479ec4c",
   "metadata": {},
   "outputs": [
    {
     "name": "stdout",
     "output_type": "stream",
     "text": [
      "0.9\n",
      "True\n"
     ]
    }
   ],
   "source": [
    "a = 0.3 + 0.6\n",
    "print(round(a,3))\n",
    "\n",
    "if round(a,4) == 0.9:\n",
    "    print(True)\n",
    "else :\n",
    "    print(False)"
   ]
  },
  {
   "cell_type": "code",
   "execution_count": 7,
   "id": "2659fd59",
   "metadata": {},
   "outputs": [
    {
     "data": {
      "text/plain": [
       "[True]"
      ]
     },
     "execution_count": 7,
     "metadata": {},
     "output_type": "execute_result"
    }
   ],
   "source": [
    "[True if round(a,4) == 0.9 else print(False)]"
   ]
  },
  {
   "cell_type": "code",
   "execution_count": 8,
   "id": "559b44d0",
   "metadata": {},
   "outputs": [
    {
     "data": {
      "text/plain": [
       "True"
      ]
     },
     "execution_count": 8,
     "metadata": {},
     "output_type": "execute_result"
    }
   ],
   "source": [
    "True if round(a,4) == 0.9 else print(False)"
   ]
  },
  {
   "cell_type": "code",
   "execution_count": null,
   "id": "2822f6a9",
   "metadata": {},
   "outputs": [],
   "source": []
  },
  {
   "cell_type": "code",
   "execution_count": null,
   "id": "286eba4c",
   "metadata": {},
   "outputs": [],
   "source": []
  },
  {
   "cell_type": "code",
   "execution_count": null,
   "id": "950c4bb8",
   "metadata": {},
   "outputs": [],
   "source": []
  },
  {
   "cell_type": "code",
   "execution_count": null,
   "id": "78a2fb6f",
   "metadata": {},
   "outputs": [],
   "source": []
  },
  {
   "cell_type": "code",
   "execution_count": null,
   "id": "6cfa0a5c",
   "metadata": {},
   "outputs": [],
   "source": []
  },
  {
   "cell_type": "code",
   "execution_count": null,
   "id": "d82d3d4d",
   "metadata": {},
   "outputs": [],
   "source": []
  },
  {
   "cell_type": "code",
   "execution_count": null,
   "id": "09a1f97f",
   "metadata": {},
   "outputs": [],
   "source": []
  },
  {
   "cell_type": "code",
   "execution_count": null,
   "id": "f8831f16",
   "metadata": {},
   "outputs": [],
   "source": []
  }
 ],
 "metadata": {
  "kernelspec": {
   "display_name": "Python 3",
   "language": "python",
   "name": "python3"
  },
  "language_info": {
   "codemirror_mode": {
    "name": "ipython",
    "version": 3
   },
   "file_extension": ".py",
   "mimetype": "text/x-python",
   "name": "python",
   "nbconvert_exporter": "python",
   "pygments_lexer": "ipython3",
   "version": "3.8.8"
  }
 },
 "nbformat": 4,
 "nbformat_minor": 5
}
