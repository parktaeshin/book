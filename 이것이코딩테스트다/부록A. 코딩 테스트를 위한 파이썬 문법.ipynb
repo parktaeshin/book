{
 "cells": [
  {
   "cell_type": "markdown",
   "id": "e294a1b2",
   "metadata": {},
   "source": [
    "# 수 자료형\n",
    "- 정수를 기본으로 사용"
   ]
  },
  {
   "cell_type": "markdown",
   "id": "a4df83ad",
   "metadata": {},
   "source": [
    "## 정수형\n",
    "- 정수를 다루는 자료형\n",
    "- 정수형에는 양의 정수, 음의 정수, 0이 있음"
   ]
  },
  {
   "cell_type": "code",
   "execution_count": 1,
   "id": "bfc594ce",
   "metadata": {},
   "outputs": [
    {
     "name": "stdout",
     "output_type": "stream",
     "text": [
      "1000\n",
      "-7\n",
      "0\n"
     ]
    }
   ],
   "source": [
    "a = 1000\n",
    "print(a)\n",
    "\n",
    "\n",
    "a = -7\n",
    "print(a)\n",
    "\n",
    "a = 0\n",
    "print(a)"
   ]
  },
  {
   "cell_type": "markdown",
   "id": "421a5b99",
   "metadata": {},
   "source": [
    "## 실수형"
   ]
  },
  {
   "cell_type": "code",
   "execution_count": 2,
   "id": "e35d3c79",
   "metadata": {},
   "outputs": [
    {
     "name": "stdout",
     "output_type": "stream",
     "text": [
      "157.93\n",
      "-1837.2\n",
      "5.0\n",
      "-7.0\n"
     ]
    }
   ],
   "source": [
    "a = 157.93\n",
    "print(a)\n",
    "\n",
    "a = -1837.2\n",
    "print(a)\n",
    "\n",
    "a = 5.\n",
    "print(a)\n",
    "\n",
    "a = -7.\n",
    "print(a)"
   ]
  },
  {
   "cell_type": "markdown",
   "id": "a182de2d",
   "metadata": {},
   "source": [
    "- 실수형 데이터를 표현하는 방식으로 파이썬에서는 e나 E를 이용한 지수 표현 방식을 이용\n",
    "- e 다음에 오는 수는 10의 지수부를 의미"
   ]
  },
  {
   "cell_type": "code",
   "execution_count": 3,
   "id": "970711fc",
   "metadata": {},
   "outputs": [
    {
     "name": "stdout",
     "output_type": "stream",
     "text": [
      "1000000000.0\n",
      "752.4\n",
      "3.954\n"
     ]
    }
   ],
   "source": [
    "# 10억의 지수 표현 방식\n",
    "a = 1e9\n",
    "print(a)\n",
    "\n",
    "# 752.5\n",
    "a = 75.24e1\n",
    "print(a)\n",
    "\n",
    "# 3.954\n",
    "a = 3954e-3\n",
    "print(a)"
   ]
  },
  {
   "cell_type": "markdown",
   "id": "7afe4645",
   "metadata": {},
   "source": [
    "- 컴퓨터가 실수를 정확히 표현하지 못한다는 사실을 기억!"
   ]
  },
  {
   "cell_type": "code",
   "execution_count": 4,
   "id": "ee050334",
   "metadata": {},
   "outputs": [
    {
     "name": "stdout",
     "output_type": "stream",
     "text": [
      "0.8999999999999999\n",
      "False\n"
     ]
    }
   ],
   "source": [
    "a = 0.3 + 0.6\n",
    "print(a)\n",
    "\n",
    "if a == 0.9:\n",
    "    print(True)\n",
    "else :\n",
    "    print(False)"
   ]
  },
  {
   "cell_type": "markdown",
   "id": "aa0e7312",
   "metadata": {},
   "source": [
    "- 소수점 값을 비교하는 작업이 필요한 문제라면 round()함수 이용하기"
   ]
  },
  {
   "cell_type": "code",
   "execution_count": 6,
   "id": "841695d0",
   "metadata": {},
   "outputs": [
    {
     "name": "stdout",
     "output_type": "stream",
     "text": [
      "0.9\n",
      "True\n"
     ]
    }
   ],
   "source": [
    "a = 0.3 + 0.6\n",
    "print(round(a,3))\n",
    "\n",
    "if round(a,4) == 0.9:\n",
    "    print(True)\n",
    "else :\n",
    "    print(False)"
   ]
  },
  {
   "cell_type": "code",
   "execution_count": 7,
   "id": "2e55add8",
   "metadata": {},
   "outputs": [
    {
     "data": {
      "text/plain": [
       "[True]"
      ]
     },
     "execution_count": 7,
     "metadata": {},
     "output_type": "execute_result"
    }
   ],
   "source": [
    "[True if round(a,4) == 0.9 else print(False)]"
   ]
  },
  {
   "cell_type": "code",
   "execution_count": 8,
   "id": "2f9628ab",
   "metadata": {},
   "outputs": [
    {
     "data": {
      "text/plain": [
       "True"
      ]
     },
     "execution_count": 8,
     "metadata": {},
     "output_type": "execute_result"
    }
   ],
   "source": [
    "True if round(a,4) == 0.9 else print(False)"
   ]
  },
  {
   "cell_type": "markdown",
   "id": "4b84846d",
   "metadata": {},
   "source": [
    "## 수 자료형의 연산"
   ]
  },
  {
   "cell_type": "markdown",
   "id": "75cfa89c",
   "metadata": {},
   "source": [
    "- 파이썬에서는 나누기 연산자(/)는 나눠진 결과를 기본적으로 실수형으로 처리 함"
   ]
  },
  {
   "cell_type": "code",
   "execution_count": 9,
   "id": "b9f6a76d",
   "metadata": {},
   "outputs": [
    {
     "name": "stdout",
     "output_type": "stream",
     "text": [
      "2.3333333333333335\n",
      "1\n",
      "2\n"
     ]
    }
   ],
   "source": [
    "a ,b = 7,3\n",
    "\n",
    "print(a/b)\n",
    "\n",
    "print(a % b)\n",
    "\n",
    "print(a // b)"
   ]
  },
  {
   "cell_type": "code",
   "execution_count": 10,
   "id": "805dfe79",
   "metadata": {},
   "outputs": [
    {
     "name": "stdout",
     "output_type": "stream",
     "text": [
      "343\n"
     ]
    }
   ],
   "source": [
    "print(a ** b)"
   ]
  },
  {
   "cell_type": "markdown",
   "id": "b57f5acf",
   "metadata": {},
   "source": [
    "# 리스트 자료형\n",
    "- 리스트는 여러 개의 데이터를 연속적으로 담아 처리하기 위해 사용\n",
    "- append(), remove() 등의 메서드 지원"
   ]
  },
  {
   "cell_type": "markdown",
   "id": "057b03f6",
   "metadata": {},
   "source": [
    "## 리스트 만들기\n",
    "- 리스트는 대괄호([])안에 원소를 넣어 초기화하며 쉽표로 원소를 구분\n",
    "- 인덱스는 0부터 시작\n",
    "- 비어있는 리스트를 선언하고자 할 때는 list() 혹은 간단히 대괄호([])를 이용"
   ]
  },
  {
   "cell_type": "code",
   "execution_count": 13,
   "id": "4a80bfaa",
   "metadata": {},
   "outputs": [
    {
     "name": "stdout",
     "output_type": "stream",
     "text": [
      "[1, 2, 3, 4, 5, 6, 7, 8, 9]\n"
     ]
    }
   ],
   "source": [
    "a = [1,2,3,4,5,6,7,8,9]\n",
    "print(a)"
   ]
  },
  {
   "cell_type": "code",
   "execution_count": 14,
   "id": "f9955ece",
   "metadata": {},
   "outputs": [
    {
     "name": "stdout",
     "output_type": "stream",
     "text": [
      "5\n"
     ]
    }
   ],
   "source": [
    "print(a[4])"
   ]
  },
  {
   "cell_type": "code",
   "execution_count": 15,
   "id": "381ff11b",
   "metadata": {},
   "outputs": [
    {
     "name": "stdout",
     "output_type": "stream",
     "text": [
      "[]\n"
     ]
    }
   ],
   "source": [
    "a = list()\n",
    "print(a)"
   ]
  },
  {
   "cell_type": "code",
   "execution_count": 16,
   "id": "a413882b",
   "metadata": {},
   "outputs": [
    {
     "name": "stdout",
     "output_type": "stream",
     "text": [
      "[]\n"
     ]
    }
   ],
   "source": [
    "a = []\n",
    "print(a)"
   ]
  },
  {
   "cell_type": "markdown",
   "id": "6a6b65f1",
   "metadata": {},
   "source": [
    "- 코딩 테스트 문제에서는 주로 크기가 N인 1차원 리스트를 초기화해야 하는데 다음 방식으로 초기화하면 편리함!"
   ]
  },
  {
   "cell_type": "code",
   "execution_count": 17,
   "id": "60d3929f",
   "metadata": {},
   "outputs": [
    {
     "name": "stdout",
     "output_type": "stream",
     "text": [
      "[0, 0, 0, 0, 0, 0, 0, 0, 0, 0]\n"
     ]
    }
   ],
   "source": [
    "# 크기가 N이고, 모든 값이 0인 1차원 리스트 초기화\n",
    "n = 10\n",
    "a = [0] * n\n",
    "print(a)"
   ]
  },
  {
   "cell_type": "code",
   "execution_count": 18,
   "id": "8699a318",
   "metadata": {},
   "outputs": [
    {
     "data": {
      "text/plain": [
       "[0, 0, 0, 0, 0, 0, 0, 0, 0, 0]"
      ]
     },
     "execution_count": 18,
     "metadata": {},
     "output_type": "execute_result"
    }
   ],
   "source": [
    "[0] * 10"
   ]
  },
  {
   "cell_type": "code",
   "execution_count": 19,
   "id": "1b4ffc13",
   "metadata": {},
   "outputs": [
    {
     "data": {
      "text/plain": [
       "[1, 2, 3, 1, 2, 3, 1, 2, 3]"
      ]
     },
     "execution_count": 19,
     "metadata": {},
     "output_type": "execute_result"
    }
   ],
   "source": [
    "[1,2,3] * 3"
   ]
  },
  {
   "cell_type": "markdown",
   "id": "20fcd8d3",
   "metadata": {},
   "source": [
    "- 인덱스값을 입력하여 리스트의 특정한 원소에 접근하는 것을 인덱싱\n",
    "- 파이썬의 인덱스값은 양의 정수와 음의 정수를 모두 사용할 수 있으며, 음의 정수를 넣으며 원소를 거꾸로 탐색"
   ]
  },
  {
   "cell_type": "code",
   "execution_count": 20,
   "id": "6116af0a",
   "metadata": {},
   "outputs": [
    {
     "name": "stdout",
     "output_type": "stream",
     "text": [
      "9\n",
      "7\n",
      "[1, 2, 3, 7, 5, 6, 7, 8, 9]\n"
     ]
    }
   ],
   "source": [
    "a = [1,2,3,4,5,6,7,8,9]\n",
    "print(a[-1])\n",
    "\n",
    "print(a[-3])\n",
    "\n",
    "# 네번째 원소 값 변경\n",
    "a[3] = 7\n",
    "print(a)"
   ]
  },
  {
   "cell_type": "markdown",
   "id": "a7a0fe24",
   "metadata": {},
   "source": [
    "- 리스트에서 연속적인 위치를 갖는 원소들을 가져와야 할 떄는 슬라이싱 이용\n",
    "- 대괄호 안에 콜론을 넣어서 시작 인덱스와 끝 인덱스를 설정할 수 있음"
   ]
  },
  {
   "cell_type": "code",
   "execution_count": 21,
   "id": "f88f3014",
   "metadata": {},
   "outputs": [
    {
     "name": "stdout",
     "output_type": "stream",
     "text": [
      "[2, 3, 7]\n"
     ]
    }
   ],
   "source": [
    "print(a[1:4])"
   ]
  },
  {
   "cell_type": "markdown",
   "id": "91394947",
   "metadata": {},
   "source": [
    "## 리스트 컴프리헨션\n",
    "- 매우 매우 매우 중요한 듯... 데이콘에서도 전처리 할 때 많이 쓰임! 익혀두자\n",
    "- 리스트 컴프리헨션은 리스트를 초기화하는 방법 중 하나\n",
    "- 리스트 컴프리헨션을 이용하면 대괄호안에 조건문과 반복문을 넣는 방식으로 시트를 초기화할 수 있음\n"
   ]
  },
  {
   "cell_type": "code",
   "execution_count": 22,
   "id": "c03afa24",
   "metadata": {},
   "outputs": [
    {
     "name": "stdout",
     "output_type": "stream",
     "text": [
      "[1, 3, 5, 7, 9, 11, 13, 15, 17, 19]\n"
     ]
    }
   ],
   "source": [
    "# 0 부터 19까지의 수 중에서 홀수만 포함하는 리스트\n",
    "\n",
    "array = [i for i in range(20) if i % 2 == 1]\n",
    "\n",
    "print(array)"
   ]
  },
  {
   "cell_type": "code",
   "execution_count": 23,
   "id": "9e23c381",
   "metadata": {},
   "outputs": [
    {
     "name": "stdout",
     "output_type": "stream",
     "text": [
      "[1, 3, 5, 7, 9, 11, 13, 15, 17, 19]\n"
     ]
    }
   ],
   "source": [
    "# 위 코드를 반복문으로 해보자\n",
    "\n",
    "array = []\n",
    "for i in range(20):\n",
    "    if i % 2 == 1:\n",
    "        array.append(i)\n",
    "        \n",
    "print(array)"
   ]
  },
  {
   "cell_type": "code",
   "execution_count": 26,
   "id": "e15ade0e",
   "metadata": {},
   "outputs": [
    {
     "name": "stdout",
     "output_type": "stream",
     "text": [
      "[1, 4, 9, 16, 25, 36, 49, 64, 81]\n"
     ]
    }
   ],
   "source": [
    "# 1부터 9까지의 수의 제곱 값을 포함하는 리스트\n",
    "\n",
    "array = [i*i for i in range(1,10)]\n",
    "\n",
    "print(array)"
   ]
  },
  {
   "cell_type": "code",
   "execution_count": null,
   "id": "6ccacee3",
   "metadata": {},
   "outputs": [],
   "source": []
  },
  {
   "cell_type": "code",
   "execution_count": null,
   "id": "36a182fe",
   "metadata": {},
   "outputs": [],
   "source": []
  },
  {
   "cell_type": "code",
   "execution_count": null,
   "id": "c5526d9b",
   "metadata": {},
   "outputs": [],
   "source": []
  },
  {
   "cell_type": "code",
   "execution_count": null,
   "id": "23c02093",
   "metadata": {},
   "outputs": [],
   "source": []
  },
  {
   "cell_type": "code",
   "execution_count": null,
   "id": "07980d76",
   "metadata": {},
   "outputs": [],
   "source": []
  },
  {
   "cell_type": "code",
   "execution_count": null,
   "id": "c7fd0835",
   "metadata": {},
   "outputs": [],
   "source": []
  },
  {
   "cell_type": "code",
   "execution_count": null,
   "id": "d51bd70f",
   "metadata": {},
   "outputs": [],
   "source": []
  },
  {
   "cell_type": "code",
   "execution_count": null,
   "id": "657701e4",
   "metadata": {},
   "outputs": [],
   "source": []
  }
 ],
 "metadata": {
  "kernelspec": {
   "display_name": "Python 3",
   "language": "python",
   "name": "python3"
  },
  "language_info": {
   "codemirror_mode": {
    "name": "ipython",
    "version": 3
   },
   "file_extension": ".py",
   "mimetype": "text/x-python",
   "name": "python",
   "nbconvert_exporter": "python",
   "pygments_lexer": "ipython3",
   "version": "3.8.8"
  }
 },
 "nbformat": 4,
 "nbformat_minor": 5
}
