{
 "cells": [
  {
   "cell_type": "markdown",
   "id": "bf8ef209",
   "metadata": {},
   "source": [
    "# 수 자료형\n",
    "- 정수를 기본으로 사용"
   ]
  },
  {
   "cell_type": "markdown",
   "id": "25fb496d",
   "metadata": {},
   "source": [
    "## 정수형\n",
    "- 정수를 다루는 자료형\n",
    "- 정수형에는 양의 정수, 음의 정수, 0이 있음"
   ]
  },
  {
   "cell_type": "code",
   "execution_count": 1,
   "id": "6f6028a9",
   "metadata": {},
   "outputs": [
    {
     "name": "stdout",
     "output_type": "stream",
     "text": [
      "1000\n",
      "-7\n",
      "0\n"
     ]
    }
   ],
   "source": [
    "a = 1000\n",
    "print(a)\n",
    "\n",
    "\n",
    "a = -7\n",
    "print(a)\n",
    "\n",
    "a = 0\n",
    "print(a)"
   ]
  },
  {
   "cell_type": "markdown",
   "id": "ee5bb3ae",
   "metadata": {},
   "source": [
    "## 실수형"
   ]
  },
  {
   "cell_type": "code",
   "execution_count": 2,
   "id": "0d55e213",
   "metadata": {},
   "outputs": [
    {
     "name": "stdout",
     "output_type": "stream",
     "text": [
      "157.93\n",
      "-1837.2\n",
      "5.0\n",
      "-7.0\n"
     ]
    }
   ],
   "source": [
    "a = 157.93\n",
    "print(a)\n",
    "\n",
    "a = -1837.2\n",
    "print(a)\n",
    "\n",
    "a = 5.\n",
    "print(a)\n",
    "\n",
    "a = -7.\n",
    "print(a)"
   ]
  },
  {
   "cell_type": "markdown",
   "id": "2d02019c",
   "metadata": {},
   "source": [
    "- 실수형 데이터를 표현하는 방식으로 파이썬에서는 e나 E를 이용한 지수 표현 방식을 이용\n",
    "- e 다음에 오는 수는 10의 지수부를 의미"
   ]
  },
  {
   "cell_type": "code",
   "execution_count": 3,
   "id": "590a4ade",
   "metadata": {},
   "outputs": [
    {
     "name": "stdout",
     "output_type": "stream",
     "text": [
      "1000000000.0\n",
      "752.4\n",
      "3.954\n"
     ]
    }
   ],
   "source": [
    "# 10억의 지수 표현 방식\n",
    "a = 1e9\n",
    "print(a)\n",
    "\n",
    "# 752.5\n",
    "a = 75.24e1\n",
    "print(a)\n",
    "\n",
    "# 3.954\n",
    "a = 3954e-3\n",
    "print(a)"
   ]
  },
  {
   "cell_type": "markdown",
   "id": "24c41111",
   "metadata": {},
   "source": [
    "- 컴퓨터가 실수를 정확히 표현하지 못한다는 사실을 기억!"
   ]
  },
  {
   "cell_type": "code",
   "execution_count": 4,
   "id": "4b621c8b",
   "metadata": {},
   "outputs": [
    {
     "name": "stdout",
     "output_type": "stream",
     "text": [
      "0.8999999999999999\n",
      "False\n"
     ]
    }
   ],
   "source": [
    "a = 0.3 + 0.6\n",
    "print(a)\n",
    "\n",
    "if a == 0.9:\n",
    "    print(True)\n",
    "else :\n",
    "    print(False)"
   ]
  },
  {
   "cell_type": "markdown",
   "id": "80d326ca",
   "metadata": {},
   "source": [
    "- 소수점 값을 비교하는 작업이 필요한 문제라면 round()함수 이용하기"
   ]
  },
  {
   "cell_type": "code",
   "execution_count": 6,
   "id": "0cd8f1d7",
   "metadata": {},
   "outputs": [
    {
     "name": "stdout",
     "output_type": "stream",
     "text": [
      "0.9\n",
      "True\n"
     ]
    }
   ],
   "source": [
    "a = 0.3 + 0.6\n",
    "print(round(a,3))\n",
    "\n",
    "if round(a,4) == 0.9:\n",
    "    print(True)\n",
    "else :\n",
    "    print(False)"
   ]
  },
  {
   "cell_type": "code",
   "execution_count": 7,
   "id": "0b5c52ef",
   "metadata": {},
   "outputs": [
    {
     "data": {
      "text/plain": [
       "[True]"
      ]
     },
     "execution_count": 7,
     "metadata": {},
     "output_type": "execute_result"
    }
   ],
   "source": [
    "[True if round(a,4) == 0.9 else print(False)]"
   ]
  },
  {
   "cell_type": "code",
   "execution_count": 8,
   "id": "847b6295",
   "metadata": {},
   "outputs": [
    {
     "data": {
      "text/plain": [
       "True"
      ]
     },
     "execution_count": 8,
     "metadata": {},
     "output_type": "execute_result"
    }
   ],
   "source": [
    "True if round(a,4) == 0.9 else print(False)"
   ]
  },
  {
   "cell_type": "markdown",
   "id": "3a484368",
   "metadata": {},
   "source": [
    "## 수 자료형의 연산"
   ]
  },
  {
   "cell_type": "markdown",
   "id": "3c526e29",
   "metadata": {},
   "source": [
    "- 파이썬에서는 나누기 연산자(/)는 나눠진 결과를 기본적으로 실수형으로 처리 함"
   ]
  },
  {
   "cell_type": "code",
   "execution_count": 9,
   "id": "56c79f29",
   "metadata": {},
   "outputs": [
    {
     "name": "stdout",
     "output_type": "stream",
     "text": [
      "2.3333333333333335\n",
      "1\n",
      "2\n"
     ]
    }
   ],
   "source": [
    "a ,b = 7,3\n",
    "\n",
    "print(a/b)\n",
    "\n",
    "print(a % b)\n",
    "\n",
    "print(a // b)"
   ]
  },
  {
   "cell_type": "code",
   "execution_count": 10,
   "id": "fc4c96af",
   "metadata": {},
   "outputs": [
    {
     "name": "stdout",
     "output_type": "stream",
     "text": [
      "343\n"
     ]
    }
   ],
   "source": [
    "print(a ** b)"
   ]
  },
  {
   "cell_type": "markdown",
   "id": "61a40cdc",
   "metadata": {},
   "source": [
    "# 리스트 자료형\n",
    "- 리스트는 여러 개의 데이터를 연속적으로 담아 처리하기 위해 사용\n",
    "- append(), remove() 등의 메서드 지원"
   ]
  },
  {
   "cell_type": "markdown",
   "id": "49069929",
   "metadata": {},
   "source": [
    "## 리스트 만들기\n",
    "- 리스트는 대괄호([])안에 원소를 넣어 초기화하며 쉽표로 원소를 구분\n",
    "- 인덱스는 0부터 시작\n",
    "- 비어있는 리스트를 선언하고자 할 때는 list() 혹은 간단히 대괄호([])를 이용"
   ]
  },
  {
   "cell_type": "code",
   "execution_count": 13,
   "id": "cd1d443d",
   "metadata": {},
   "outputs": [
    {
     "name": "stdout",
     "output_type": "stream",
     "text": [
      "[1, 2, 3, 4, 5, 6, 7, 8, 9]\n"
     ]
    }
   ],
   "source": [
    "a = [1,2,3,4,5,6,7,8,9]\n",
    "print(a)"
   ]
  },
  {
   "cell_type": "code",
   "execution_count": 14,
   "id": "f0992fa0",
   "metadata": {},
   "outputs": [
    {
     "name": "stdout",
     "output_type": "stream",
     "text": [
      "5\n"
     ]
    }
   ],
   "source": [
    "print(a[4])"
   ]
  },
  {
   "cell_type": "code",
   "execution_count": 15,
   "id": "398a7e84",
   "metadata": {},
   "outputs": [
    {
     "name": "stdout",
     "output_type": "stream",
     "text": [
      "[]\n"
     ]
    }
   ],
   "source": [
    "a = list()\n",
    "print(a)"
   ]
  },
  {
   "cell_type": "code",
   "execution_count": 16,
   "id": "ece53a9c",
   "metadata": {},
   "outputs": [
    {
     "name": "stdout",
     "output_type": "stream",
     "text": [
      "[]\n"
     ]
    }
   ],
   "source": [
    "a = []\n",
    "print(a)"
   ]
  },
  {
   "cell_type": "markdown",
   "id": "0aa6a8ae",
   "metadata": {},
   "source": [
    "- 코딩 테스트 문제에서는 주로 크기가 N인 1차원 리스트를 초기화해야 하는데 다음 방식으로 초기화하면 편리함!"
   ]
  },
  {
   "cell_type": "code",
   "execution_count": 17,
   "id": "46c25339",
   "metadata": {},
   "outputs": [
    {
     "name": "stdout",
     "output_type": "stream",
     "text": [
      "[0, 0, 0, 0, 0, 0, 0, 0, 0, 0]\n"
     ]
    }
   ],
   "source": [
    "# 크기가 N이고, 모든 값이 0인 1차원 리스트 초기화\n",
    "n = 10\n",
    "a = [0] * n\n",
    "print(a)"
   ]
  },
  {
   "cell_type": "code",
   "execution_count": 18,
   "id": "59e21a3e",
   "metadata": {},
   "outputs": [
    {
     "data": {
      "text/plain": [
       "[0, 0, 0, 0, 0, 0, 0, 0, 0, 0]"
      ]
     },
     "execution_count": 18,
     "metadata": {},
     "output_type": "execute_result"
    }
   ],
   "source": [
    "[0] * 10"
   ]
  },
  {
   "cell_type": "code",
   "execution_count": 19,
   "id": "550ef31e",
   "metadata": {},
   "outputs": [
    {
     "data": {
      "text/plain": [
       "[1, 2, 3, 1, 2, 3, 1, 2, 3]"
      ]
     },
     "execution_count": 19,
     "metadata": {},
     "output_type": "execute_result"
    }
   ],
   "source": [
    "[1,2,3] * 3"
   ]
  },
  {
   "cell_type": "markdown",
   "id": "e465b35a",
   "metadata": {},
   "source": [
    "- 인덱스값을 입력하여 리스트의 특정한 원소에 접근하는 것을 인덱싱\n",
    "- 파이썬의 인덱스값은 양의 정수와 음의 정수를 모두 사용할 수 있으며, 음의 정수를 넣으며 원소를 거꾸로 탐색"
   ]
  },
  {
   "cell_type": "code",
   "execution_count": 20,
   "id": "95030f9f",
   "metadata": {},
   "outputs": [
    {
     "name": "stdout",
     "output_type": "stream",
     "text": [
      "9\n",
      "7\n",
      "[1, 2, 3, 7, 5, 6, 7, 8, 9]\n"
     ]
    }
   ],
   "source": [
    "a = [1,2,3,4,5,6,7,8,9]\n",
    "print(a[-1])\n",
    "\n",
    "print(a[-3])\n",
    "\n",
    "# 네번째 원소 값 변경\n",
    "a[3] = 7\n",
    "print(a)"
   ]
  },
  {
   "cell_type": "markdown",
   "id": "4f9bc89d",
   "metadata": {},
   "source": [
    "- 리스트에서 연속적인 위치를 갖는 원소들을 가져와야 할 떄는 슬라이싱 이용\n",
    "- 대괄호 안에 콜론을 넣어서 시작 인덱스와 끝 인덱스를 설정할 수 있음"
   ]
  },
  {
   "cell_type": "code",
   "execution_count": 21,
   "id": "1e61c2ae",
   "metadata": {},
   "outputs": [
    {
     "name": "stdout",
     "output_type": "stream",
     "text": [
      "[2, 3, 7]\n"
     ]
    }
   ],
   "source": [
    "print(a[1:4])"
   ]
  },
  {
   "cell_type": "markdown",
   "id": "e3294005",
   "metadata": {},
   "source": [
    "## 리스트 컴프리헨션\n",
    "- 매우 매우 매우 중요한 듯... 데이콘에서도 전처리 할 때 많이 쓰임! 익혀두자\n",
    "- 리스트 컴프리헨션은 리스트를 초기화하는 방법 중 하나\n",
    "- 리스트 컴프리헨션을 이용하면 대괄호안에 조건문과 반복문을 넣는 방식으로 시트를 초기화할 수 있음\n"
   ]
  },
  {
   "cell_type": "code",
   "execution_count": 22,
   "id": "1a0a9f05",
   "metadata": {},
   "outputs": [
    {
     "name": "stdout",
     "output_type": "stream",
     "text": [
      "[1, 3, 5, 7, 9, 11, 13, 15, 17, 19]\n"
     ]
    }
   ],
   "source": [
    "# 0 부터 19까지의 수 중에서 홀수만 포함하는 리스트\n",
    "\n",
    "array = [i for i in range(20) if i % 2 == 1]\n",
    "\n",
    "print(array)"
   ]
  },
  {
   "cell_type": "code",
   "execution_count": 23,
   "id": "d17b9c2b",
   "metadata": {},
   "outputs": [
    {
     "name": "stdout",
     "output_type": "stream",
     "text": [
      "[1, 3, 5, 7, 9, 11, 13, 15, 17, 19]\n"
     ]
    }
   ],
   "source": [
    "# 위 코드를 반복문으로 해보자\n",
    "\n",
    "array = []\n",
    "for i in range(20):\n",
    "    if i % 2 == 1:\n",
    "        array.append(i)\n",
    "        \n",
    "print(array)"
   ]
  },
  {
   "cell_type": "code",
   "execution_count": 26,
   "id": "2252f4f4",
   "metadata": {},
   "outputs": [
    {
     "name": "stdout",
     "output_type": "stream",
     "text": [
      "[1, 4, 9, 16, 25, 36, 49, 64, 81]\n"
     ]
    }
   ],
   "source": [
    "# 1부터 9까지의 수의 제곱 값을 포함하는 리스트\n",
    "\n",
    "array = [i*i for i in range(1,10)]\n",
    "\n",
    "print(array)"
   ]
  },
  {
   "cell_type": "markdown",
   "id": "e87c9317",
   "metadata": {},
   "source": [
    "- 이러한 리스트 컴프리헨션은 코딩 테스트에서 2차원 리스트를 초기화 할 때 매우 효과적으로 사용도리 수 있음"
   ]
  },
  {
   "cell_type": "code",
   "execution_count": 28,
   "id": "a5d08b32",
   "metadata": {},
   "outputs": [
    {
     "name": "stdout",
     "output_type": "stream",
     "text": [
      "[[0], [0], [0]]\n",
      "[[0, 0, 0, 0], [0, 0, 0, 0], [0, 0, 0, 0]]\n"
     ]
    }
   ],
   "source": [
    "# n * m 크기의 2차원 리스트 초기화 \n",
    "\n",
    "n = 3\n",
    "m = 4\n",
    "array = [[0] for _ in range(n)]\n",
    "print(array)\n",
    "\n",
    "\n",
    "array = [[0] * m for _ in range(n)]\n",
    "print(array)"
   ]
  },
  {
   "cell_type": "markdown",
   "id": "5bab25d6",
   "metadata": {},
   "source": [
    "* 언더바(_)는 어떤 역할?\n",
    "    - 파이썬 자료구조/알고리즘에서는 반복을 수행하되 반복을 위한 변수의 값을 무시하고자 할 때 언더바(_)를 자주 사용\n",
    "    - 예를 들어 1부터 9까지의 자연수를 더할 때는 아래처럼 작성. \n",
    "    - 단순히 \"Hello World\"를 5번 출력할 때는 언더바(_)를 이용하여 무시"
   ]
  },
  {
   "cell_type": "code",
   "execution_count": 40,
   "id": "f420acfb",
   "metadata": {},
   "outputs": [
    {
     "name": "stdout",
     "output_type": "stream",
     "text": [
      "45\n"
     ]
    }
   ],
   "source": [
    "summary = 0\n",
    "for i in range(1,10):\n",
    "    summary += i\n",
    "print(summary)"
   ]
  },
  {
   "cell_type": "code",
   "execution_count": 41,
   "id": "afc63f84",
   "metadata": {},
   "outputs": [
    {
     "name": "stdout",
     "output_type": "stream",
     "text": [
      "Hello World\n",
      "Hello World\n",
      "Hello World\n",
      "Hello World\n",
      "Hello World\n"
     ]
    }
   ],
   "source": [
    "for _ in range(5):\n",
    "    print(\"Hello World\")"
   ]
  },
  {
   "cell_type": "markdown",
   "id": "8cb6c14b",
   "metadata": {},
   "source": [
    "* 참고로 특정 크기의 2차원 리스트를 초기화할 때는 반드시 리스트 컴프리헨션을 이용해야 함\n",
    "* 만약에 다음과 같이 N * M 크기의 2차원 리스트를 초기화한다면, 의도치 않은 결과가 나올 수 있음"
   ]
  },
  {
   "cell_type": "code",
   "execution_count": 42,
   "id": "5c73b11a",
   "metadata": {},
   "outputs": [
    {
     "name": "stdout",
     "output_type": "stream",
     "text": [
      "[[0, 0, 0, 0], [0, 0, 0, 0], [0, 0, 0, 0]]\n"
     ]
    }
   ],
   "source": [
    "n = 3\n",
    "m = 4\n",
    "array = [[0] *m ] *n\n",
    "print(array)"
   ]
  },
  {
   "cell_type": "code",
   "execution_count": 43,
   "id": "4642fa00",
   "metadata": {},
   "outputs": [
    {
     "name": "stdout",
     "output_type": "stream",
     "text": [
      "[[0, 5, 0, 0], [0, 5, 0, 0], [0, 5, 0, 0]]\n"
     ]
    }
   ],
   "source": [
    "array[1][1] = 5\n",
    "print(array)"
   ]
  },
  {
   "cell_type": "markdown",
   "id": "c8e12e03",
   "metadata": {},
   "source": [
    "- 따라서 특정한 크기를 가지는 2차원 리스트를 초기화할 떄에는 리스트 컴프리헨션을 이용해야 한다는 점을 기억\n",
    "- numpy 배열로 바꿔주면 되는구나!"
   ]
  },
  {
   "cell_type": "code",
   "execution_count": 46,
   "id": "4745c1bc",
   "metadata": {},
   "outputs": [
    {
     "name": "stdout",
     "output_type": "stream",
     "text": [
      "[[0 0 0 0]\n",
      " [0 0 0 0]\n",
      " [0 0 0 0]]\n"
     ]
    }
   ],
   "source": [
    "import numpy as np\n",
    "\n",
    "a = np.array([[0] * m] * n)\n",
    "print(a)"
   ]
  },
  {
   "cell_type": "code",
   "execution_count": 47,
   "id": "26474017",
   "metadata": {},
   "outputs": [
    {
     "name": "stdout",
     "output_type": "stream",
     "text": [
      "[[0 0 0 0]\n",
      " [0 5 0 0]\n",
      " [0 0 0 0]]\n"
     ]
    }
   ],
   "source": [
    "a[1][1] = 5\n",
    "print(a)"
   ]
  },
  {
   "cell_type": "markdown",
   "id": "13facc6d",
   "metadata": {},
   "source": [
    "## 리스트 관련 기타 메서드"
   ]
  },
  {
   "cell_type": "code",
   "execution_count": 48,
   "id": "5561fe40",
   "metadata": {},
   "outputs": [
    {
     "name": "stdout",
     "output_type": "stream",
     "text": [
      "기본 리스트 :  [1, 4, 3]\n"
     ]
    }
   ],
   "source": [
    "a = [1,4,3]\n",
    "print(\"기본 리스트 : \", a)\n"
   ]
  },
  {
   "cell_type": "code",
   "execution_count": 49,
   "id": "30616e9b",
   "metadata": {},
   "outputs": [
    {
     "name": "stdout",
     "output_type": "stream",
     "text": [
      "삽입 :  [1, 4, 3, 2]\n"
     ]
    }
   ],
   "source": [
    "# 리스트에 원소 삽입 append\n",
    "# 끝에 삽입됨\n",
    "a.append(2)\n",
    "print(\"삽입 : \" ,a)"
   ]
  },
  {
   "cell_type": "code",
   "execution_count": 50,
   "id": "72654ab1",
   "metadata": {},
   "outputs": [
    {
     "name": "stdout",
     "output_type": "stream",
     "text": [
      "오름차순 :  [1, 2, 3, 4]\n"
     ]
    }
   ],
   "source": [
    "# 오름차순 정렬\n",
    "a.sort()\n",
    "print(\"오름차순 : \", a)"
   ]
  },
  {
   "cell_type": "code",
   "execution_count": 51,
   "id": "51ce5069",
   "metadata": {},
   "outputs": [
    {
     "name": "stdout",
     "output_type": "stream",
     "text": [
      "내림차순 :  [4, 3, 2, 1]\n"
     ]
    }
   ],
   "source": [
    "# 내림차순 정렬\n",
    "a.sort(reverse = True)\n",
    "print(\"내림차순 : \" , a)"
   ]
  },
  {
   "cell_type": "code",
   "execution_count": 52,
   "id": "09218ed1",
   "metadata": {},
   "outputs": [
    {
     "name": "stdout",
     "output_type": "stream",
     "text": [
      "원소 뒤집기 :  [1, 2, 3, 4]\n"
     ]
    }
   ],
   "source": [
    "# 리스트 원소 뒤집기\n",
    "a.reverse()\n",
    "print(\"원소 뒤집기 : \", a)"
   ]
  },
  {
   "cell_type": "code",
   "execution_count": 53,
   "id": "582f2db5",
   "metadata": {},
   "outputs": [
    {
     "name": "stdout",
     "output_type": "stream",
     "text": [
      "인덱스 2에 3추가 :  [1, 2, 3, 3, 4]\n"
     ]
    }
   ],
   "source": [
    "# 특정 인덱스에 데이터 추가\n",
    "a.insert(2,3)\n",
    "print(\"인덱스 2에 3추가 : \", a)"
   ]
  },
  {
   "cell_type": "code",
   "execution_count": 54,
   "id": "3d3323f4",
   "metadata": {},
   "outputs": [
    {
     "name": "stdout",
     "output_type": "stream",
     "text": [
      "값이 3인 데이터 개수 :  2\n"
     ]
    }
   ],
   "source": [
    "# 특정 값인 데이터 개수 세기\n",
    "print(\"값이 3인 데이터 개수 : \" , a.count(3))"
   ]
  },
  {
   "cell_type": "code",
   "execution_count": 55,
   "id": "0d0c36b3",
   "metadata": {},
   "outputs": [
    {
     "name": "stdout",
     "output_type": "stream",
     "text": [
      "값이 1인 데이터 삭제 :  [2, 3, 3, 4]\n"
     ]
    }
   ],
   "source": [
    "# 특정 값 데이터 삭제\n",
    "a.remove(1)\n",
    "print(\"값이 1인 데이터 삭제 : \", a)"
   ]
  },
  {
   "cell_type": "markdown",
   "id": "0f694720",
   "metadata": {},
   "source": [
    "- inset()함수와 append(), remove()를 기억해두자!\n",
    "- append() 함수는 O(1) 에 수행되는데 반해 insert()함수와 remove()의 시간 복잡도는 O(N)으로 시간 초과가 일어날 수 있음!"
   ]
  },
  {
   "cell_type": "markdown",
   "id": "e5f16420",
   "metadata": {},
   "source": [
    "-- 특정한 값의 원소를 모두 제거하는 방법!"
   ]
  },
  {
   "cell_type": "code",
   "execution_count": 57,
   "id": "5e48809b",
   "metadata": {},
   "outputs": [
    {
     "name": "stdout",
     "output_type": "stream",
     "text": [
      "[1, 2, 4]\n"
     ]
    }
   ],
   "source": [
    "a = [1,2,3,4,5,5,5]\n",
    "remove_set = [3,5]\n",
    "\n",
    "# remove_set에 포함되지 않은 값만을 저장\n",
    "\n",
    "result = [i for i in a if i not in remove_set]\n",
    "print(result)\n"
   ]
  },
  {
   "cell_type": "code",
   "execution_count": 60,
   "id": "6a78cf8f",
   "metadata": {},
   "outputs": [
    {
     "data": {
      "text/plain": [
       "set"
      ]
     },
     "execution_count": 60,
     "metadata": {},
     "output_type": "execute_result"
    }
   ],
   "source": [
    "type({3,5,3})"
   ]
  },
  {
   "cell_type": "code",
   "execution_count": 59,
   "id": "53b205a4",
   "metadata": {},
   "outputs": [
    {
     "data": {
      "text/plain": [
       "list"
      ]
     },
     "execution_count": 59,
     "metadata": {},
     "output_type": "execute_result"
    }
   ],
   "source": [
    "type([3,5])"
   ]
  },
  {
   "cell_type": "markdown",
   "id": "d6702034",
   "metadata": {},
   "source": [
    "# 문자열 자료형\n",
    "## 문자열 초기화\n",
    "- 문자열 변수를 초기화 할 때는 큰따옴표나 작은따옴표 이용"
   ]
  },
  {
   "cell_type": "code",
   "execution_count": 62,
   "id": "0b0918d1",
   "metadata": {},
   "outputs": [
    {
     "name": "stdout",
     "output_type": "stream",
     "text": [
      "Hello World\n",
      "Don't you know \"Python\"?\n"
     ]
    }
   ],
   "source": [
    "data = \"Hello World\"\n",
    "print(data)\n",
    "\n",
    "data = \"Don't you know \\\"Python\\\"?\"\n",
    "print(data)"
   ]
  },
  {
   "cell_type": "code",
   "execution_count": 64,
   "id": "19a03269",
   "metadata": {},
   "outputs": [
    {
     "name": "stdout",
     "output_type": "stream",
     "text": [
      "Hello World\n"
     ]
    }
   ],
   "source": [
    "a = \"Hello\"\n",
    "b = \"World\"\n",
    "print(a + \" \" + b)"
   ]
  },
  {
   "cell_type": "code",
   "execution_count": 65,
   "id": "2f95e1f4",
   "metadata": {},
   "outputs": [
    {
     "name": "stdout",
     "output_type": "stream",
     "text": [
      "StringStringString\n"
     ]
    }
   ],
   "source": [
    "a = \"String\"\n",
    "\n",
    "print(a * 3)"
   ]
  },
  {
   "cell_type": "code",
   "execution_count": 66,
   "id": "065ec996",
   "metadata": {},
   "outputs": [
    {
     "name": "stdout",
     "output_type": "stream",
     "text": [
      "CD\n"
     ]
    }
   ],
   "source": [
    "a = \"ABCDEF\"\n",
    "print(a[2:4])"
   ]
  },
  {
   "cell_type": "markdown",
   "id": "6cd724b3",
   "metadata": {},
   "source": [
    "# 튜플 자료형\n",
    "## 튜플과 리스트의 차이점\n",
    "- 튜플은 한 번 선언된 값을 변경할 수 없음\n",
    "- 리스트는 대괄호를 이용하지만 튜플은 소괄호 이용"
   ]
  },
  {
   "cell_type": "markdown",
   "id": "235010d5",
   "metadata": {},
   "source": [
    "예를 들어 하나의 튜플 데이터를 선언한 다음, 값을 출력하고 튜플의 특정한 값을 변경\n"
   ]
  },
  {
   "cell_type": "code",
   "execution_count": 67,
   "id": "f118bbed",
   "metadata": {},
   "outputs": [
    {
     "name": "stdout",
     "output_type": "stream",
     "text": [
      "(1, 2, 3, 4)\n"
     ]
    }
   ],
   "source": [
    "a = (1,2,3,4)\n",
    "print(a)\n",
    "\n"
   ]
  },
  {
   "cell_type": "code",
   "execution_count": 68,
   "id": "d857cf64",
   "metadata": {},
   "outputs": [
    {
     "ename": "TypeError",
     "evalue": "'tuple' object does not support item assignment",
     "output_type": "error",
     "traceback": [
      "\u001b[1;31m---------------------------------------------------------------------------\u001b[0m",
      "\u001b[1;31mTypeError\u001b[0m                                 Traceback (most recent call last)",
      "\u001b[1;32m<ipython-input-68-47cac7a9a8fc>\u001b[0m in \u001b[0;36m<module>\u001b[1;34m\u001b[0m\n\u001b[1;32m----> 1\u001b[1;33m \u001b[0ma\u001b[0m\u001b[1;33m[\u001b[0m\u001b[1;36m2\u001b[0m\u001b[1;33m]\u001b[0m \u001b[1;33m=\u001b[0m \u001b[1;36m7\u001b[0m\u001b[1;33m\u001b[0m\u001b[1;33m\u001b[0m\u001b[0m\n\u001b[0m",
      "\u001b[1;31mTypeError\u001b[0m: 'tuple' object does not support item assignment"
     ]
    }
   ],
   "source": [
    "# 튜플은 값을 변경할 수 없으므로 오류가 남\n",
    "\n",
    "a[2] = 7"
   ]
  },
  {
   "cell_type": "code",
   "execution_count": null,
   "id": "41dfb3d3",
   "metadata": {},
   "outputs": [],
   "source": []
  },
  {
   "cell_type": "code",
   "execution_count": null,
   "id": "f3678883",
   "metadata": {},
   "outputs": [],
   "source": []
  },
  {
   "cell_type": "code",
   "execution_count": null,
   "id": "d408572b",
   "metadata": {},
   "outputs": [],
   "source": []
  },
  {
   "cell_type": "code",
   "execution_count": null,
   "id": "0c545e31",
   "metadata": {},
   "outputs": [],
   "source": []
  },
  {
   "cell_type": "code",
   "execution_count": null,
   "id": "38af22f7",
   "metadata": {},
   "outputs": [],
   "source": []
  }
 ],
 "metadata": {
  "kernelspec": {
   "display_name": "Python 3",
   "language": "python",
   "name": "python3"
  },
  "language_info": {
   "codemirror_mode": {
    "name": "ipython",
    "version": 3
   },
   "file_extension": ".py",
   "mimetype": "text/x-python",
   "name": "python",
   "nbconvert_exporter": "python",
   "pygments_lexer": "ipython3",
   "version": "3.8.8"
  }
 },
 "nbformat": 4,
 "nbformat_minor": 5
}
