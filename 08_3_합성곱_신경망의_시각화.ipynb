{
  "nbformat": 4,
  "nbformat_minor": 0,
  "metadata": {
    "colab": {
      "name": "08-3 합성곱 신경망의 시각화.ipynb",
      "provenance": [],
      "authorship_tag": "ABX9TyP+vPZN6mBDscjUyBAoVj5G",
      "include_colab_link": true
    },
    "kernelspec": {
      "name": "python3",
      "display_name": "Python 3"
    },
    "language_info": {
      "name": "python"
    }
  },
  "cells": [
    {
      "cell_type": "markdown",
      "metadata": {
        "id": "view-in-github",
        "colab_type": "text"
      },
      "source": [
        "<a href=\"https://colab.research.google.com/github/parktaeshin/book/blob/main/08_3_%ED%95%A9%EC%84%B1%EA%B3%B1_%EC%8B%A0%EA%B2%BD%EB%A7%9D%EC%9D%98_%EC%8B%9C%EA%B0%81%ED%99%94.ipynb\" target=\"_parent\"><img src=\"https://colab.research.google.com/assets/colab-badge.svg\" alt=\"Open In Colab\"/></a>"
      ]
    },
    {
      "cell_type": "code",
      "metadata": {
        "id": "urTxpUKgu-dZ"
      },
      "source": [
        "from tensorflow import keras"
      ],
      "execution_count": 1,
      "outputs": []
    },
    {
      "cell_type": "code",
      "source": [
        "# 코랩에서 실행하는 경우에는 다음 명령을 실행하여 best-cnn-model.h5 파일을 다운로드받아 사용하세요.\n",
        "!wget https://github.com/rickiepark/hg-mldl/raw/master/best-cnn-model.h5"
      ],
      "metadata": {
        "colab": {
          "base_uri": "https://localhost:8080/"
        },
        "id": "QeWqfYyITlL4",
        "outputId": "bd467fb6-ea8b-4266-e0f9-cb460d0a0d88"
      },
      "execution_count": 2,
      "outputs": [
        {
          "output_type": "stream",
          "name": "stdout",
          "text": [
            "--2022-02-23 06:39:36--  https://github.com/rickiepark/hg-mldl/raw/master/best-cnn-model.h5\n",
            "Resolving github.com (github.com)... 140.82.114.3\n",
            "Connecting to github.com (github.com)|140.82.114.3|:443... connected.\n",
            "HTTP request sent, awaiting response... 302 Found\n",
            "Location: https://raw.githubusercontent.com/rickiepark/hg-mldl/master/best-cnn-model.h5 [following]\n",
            "--2022-02-23 06:39:37--  https://raw.githubusercontent.com/rickiepark/hg-mldl/master/best-cnn-model.h5\n",
            "Resolving raw.githubusercontent.com (raw.githubusercontent.com)... 185.199.109.133, 185.199.108.133, 185.199.110.133, ...\n",
            "Connecting to raw.githubusercontent.com (raw.githubusercontent.com)|185.199.109.133|:443... connected.\n",
            "HTTP request sent, awaiting response... 200 OK\n",
            "Length: 4049416 (3.9M) [application/octet-stream]\n",
            "Saving to: ‘best-cnn-model.h5’\n",
            "\n",
            "best-cnn-model.h5   100%[===================>]   3.86M  --.-KB/s    in 0.07s   \n",
            "\n",
            "2022-02-23 06:39:37 (54.4 MB/s) - ‘best-cnn-model.h5’ saved [4049416/4049416]\n",
            "\n"
          ]
        }
      ]
    },
    {
      "cell_type": "code",
      "source": [
        "model = keras.models.load_model('best-cnn-model.h5')"
      ],
      "metadata": {
        "id": "GADv7GtzTmgl"
      },
      "execution_count": 3,
      "outputs": []
    },
    {
      "cell_type": "code",
      "source": [
        "model.layers"
      ],
      "metadata": {
        "colab": {
          "base_uri": "https://localhost:8080/"
        },
        "id": "M6qtLX0PTqAL",
        "outputId": "78774939-7ca3-4b3c-a145-ea135fe9243f"
      },
      "execution_count": 4,
      "outputs": [
        {
          "output_type": "execute_result",
          "data": {
            "text/plain": [
              "[<keras.layers.convolutional.Conv2D at 0x7efe17dbeb50>,\n",
              " <keras.layers.pooling.MaxPooling2D at 0x7efe17dbed90>,\n",
              " <keras.layers.convolutional.Conv2D at 0x7efe144cd7d0>,\n",
              " <keras.layers.pooling.MaxPooling2D at 0x7efe14493b90>,\n",
              " <keras.layers.core.flatten.Flatten at 0x7efe1841c950>,\n",
              " <keras.layers.core.dense.Dense at 0x7efe1448bf50>,\n",
              " <keras.layers.core.dropout.Dropout at 0x7efe144a4ad0>,\n",
              " <keras.layers.core.dense.Dense at 0x7efe14514850>]"
            ]
          },
          "metadata": {},
          "execution_count": 4
        }
      ]
    },
    {
      "cell_type": "code",
      "source": [
        "conv = model.layers[0]\n",
        "print(conv.weights[0].shape, conv.weights[1].shape)"
      ],
      "metadata": {
        "colab": {
          "base_uri": "https://localhost:8080/"
        },
        "id": "kT7CvsLaTsok",
        "outputId": "c6a00bd7-a5b0-4066-c5ac-3bacd8d1c42b"
      },
      "execution_count": 5,
      "outputs": [
        {
          "output_type": "stream",
          "name": "stdout",
          "text": [
            "(3, 3, 1, 32) (32,)\n"
          ]
        }
      ]
    },
    {
      "cell_type": "code",
      "source": [
        "model.layers[0].weights[1]"
      ],
      "metadata": {
        "colab": {
          "base_uri": "https://localhost:8080/"
        },
        "id": "ufUHfYk-UE1S",
        "outputId": "b27160b4-79e2-40fe-ea45-848e49a8841d"
      },
      "execution_count": 10,
      "outputs": [
        {
          "output_type": "execute_result",
          "data": {
            "text/plain": [
              "<tf.Variable 'conv2d/bias:0' shape=(32,) dtype=float32, numpy=\n",
              "array([-0.01347532,  0.00457351, -0.01942344,  0.02069282, -0.00718271,\n",
              "        0.00065067, -0.00912159,  0.02191769,  0.00904154,  0.00507019,\n",
              "        0.12295544, -0.01217632, -0.01042872,  0.0090463 , -0.00253875,\n",
              "       -0.01881626, -0.01092561, -0.00150568, -0.00829567, -0.02996251,\n",
              "       -0.22653033, -0.17335178, -0.14715962,  0.02092165, -0.0314569 ,\n",
              "       -0.1564053 , -0.01476744, -0.00921626,  0.03029864, -0.01253888,\n",
              "       -0.01263742, -0.04349709], dtype=float32)>"
            ]
          },
          "metadata": {},
          "execution_count": 10
        }
      ]
    },
    {
      "cell_type": "code",
      "metadata": {
        "id": "eQIvR0lmvLJx",
        "colab": {
          "base_uri": "https://localhost:8080/"
        },
        "outputId": "dcb7ee92-ff93-4b22-af97-c94e3c52e959"
      },
      "source": [
        "model.layers[0].weights[0]"
      ],
      "execution_count": 11,
      "outputs": [
        {
          "output_type": "execute_result",
          "data": {
            "text/plain": [
              "<tf.Variable 'conv2d/kernel:0' shape=(3, 3, 1, 32) dtype=float32, numpy=\n",
              "array([[[[-1.48220718e-01, -2.77182847e-01,  1.08491890e-01,\n",
              "          -2.43038520e-01, -2.00723648e-01, -1.54011503e-01,\n",
              "           1.70267597e-02,  1.52056798e-01, -7.35997930e-02,\n",
              "          -1.43009841e-01, -3.45555305e-01, -1.49833426e-01,\n",
              "           1.43565223e-01, -2.71067172e-01, -2.60950148e-01,\n",
              "           2.68019196e-02,  2.71757692e-01, -1.29052728e-01,\n",
              "          -4.07845750e-02,  1.89817861e-01,  1.71886329e-02,\n",
              "           1.82105109e-01, -6.41871914e-02, -1.41360521e-01,\n",
              "           2.37625465e-01,  1.46144599e-01, -7.07132444e-02,\n",
              "           1.62760794e-01,  5.75430095e-02,  6.72889128e-02,\n",
              "          -8.11542198e-02,  8.97996034e-03]],\n",
              "\n",
              "        [[-8.49163830e-02, -3.96132559e-01,  1.12040557e-01,\n",
              "           9.26233083e-02, -3.91667243e-03, -9.54327583e-02,\n",
              "           2.39643410e-01,  2.01588720e-01,  2.61006188e-02,\n",
              "           2.07760945e-01, -1.31966245e+00,  4.10751067e-02,\n",
              "           2.75963340e-02, -2.18376350e-02, -2.27942526e-01,\n",
              "           3.21309119e-01,  4.68326658e-02, -3.06282461e-01,\n",
              "          -7.23793805e-02, -2.22504452e-01,  1.05866581e-01,\n",
              "           3.00780594e-01,  2.41047423e-02,  1.45728499e-01,\n",
              "          -2.92924494e-01,  6.62061721e-02,  1.56105161e-01,\n",
              "           1.81367949e-01,  2.71942139e-01, -4.56597954e-02,\n",
              "          -2.34769925e-01,  1.90662101e-01]],\n",
              "\n",
              "        [[ 6.65708333e-02, -1.25808090e-01,  1.73759535e-02,\n",
              "           2.95259088e-01,  7.14145005e-02,  2.74028748e-01,\n",
              "          -2.31409818e-02,  2.08198622e-01, -3.61035615e-01,\n",
              "          -5.75523153e-02, -7.69277632e-01,  1.01539530e-01,\n",
              "          -1.50252685e-01, -1.00385897e-01,  2.29985848e-01,\n",
              "          -2.97636360e-01, -3.90019864e-01, -3.82410914e-01,\n",
              "           1.47272199e-01, -4.72480506e-02,  1.77288000e-02,\n",
              "           1.20494410e-01,  1.38428807e-01,  6.59181476e-02,\n",
              "           5.69479354e-02,  8.08090493e-02,  7.20242187e-02,\n",
              "           3.27951074e-01, -2.29778230e-01, -3.26335341e-01,\n",
              "           3.33800584e-01, -5.38731702e-02]]],\n",
              "\n",
              "\n",
              "       [[[ 2.16682151e-01, -1.42484590e-01,  1.57875150e-01,\n",
              "          -2.98991621e-01,  2.45568439e-01,  4.27630823e-03,\n",
              "           1.93989813e-01,  1.61314338e-01,  1.82258323e-01,\n",
              "          -5.62836975e-02,  1.73699349e-01, -3.44502628e-01,\n",
              "           7.11270645e-02, -4.83908176e-01,  5.44986571e-04,\n",
              "           1.09122306e-01, -1.49776712e-01,  5.65040745e-02,\n",
              "          -2.02536941e-01,  4.04063731e-01,  7.74284974e-02,\n",
              "          -2.47498080e-01, -7.16415942e-02, -3.47867727e-01,\n",
              "           1.91160426e-01,  6.33437112e-02,  7.23740906e-02,\n",
              "           8.83268341e-02,  6.46115318e-02,  3.20110887e-01,\n",
              "           5.65132089e-02,  1.79902047e-01]],\n",
              "\n",
              "        [[ 1.06736176e-01,  7.25354180e-02, -1.30192056e-01,\n",
              "          -1.16015226e-01,  1.90477625e-01,  2.43671671e-01,\n",
              "           1.61929041e-01,  1.63482308e-01,  3.09097260e-01,\n",
              "           3.29172462e-01, -7.49911010e-01,  3.39374274e-01,\n",
              "           8.15651491e-02, -7.29653612e-02,  3.08740258e-01,\n",
              "           9.90876406e-02,  3.29518348e-01,  5.86174466e-02,\n",
              "           3.52806672e-02, -2.70769030e-01,  2.19613081e-03,\n",
              "           2.34647274e-01, -6.71074316e-02, -5.63456565e-02,\n",
              "          -1.12293459e-01,  8.62234980e-02,  9.49791670e-02,\n",
              "           1.17075026e-01, -9.85063687e-02,  6.45672828e-02,\n",
              "          -2.91930676e-01, -1.90064937e-01]],\n",
              "\n",
              "        [[-3.18971068e-01,  3.96458447e-01, -3.87493551e-01,\n",
              "           3.41037750e-01, -9.64546204e-02, -2.53106147e-01,\n",
              "          -2.31839553e-01,  1.37436152e-01,  2.59156585e-01,\n",
              "          -2.72698790e-01, -4.15107280e-01,  2.02066675e-02,\n",
              "          -1.51442707e-01,  2.89874226e-01,  9.58171040e-02,\n",
              "          -2.46990681e-01,  8.85223672e-02,  2.06518590e-01,\n",
              "           1.72109887e-01, -1.10924467e-01,  2.24096701e-01,\n",
              "           1.95168063e-01,  9.08004567e-02,  3.99966478e-01,\n",
              "          -4.05984372e-01,  7.09735379e-02, -1.30507693e-01,\n",
              "          -9.20788199e-02, -6.03954196e-01, -4.13831621e-01,\n",
              "           2.36895531e-01,  4.07829508e-02]]],\n",
              "\n",
              "\n",
              "       [[[-5.32115810e-02, -2.37405226e-02, -2.16081634e-01,\n",
              "          -7.85132498e-02, -8.17428902e-03,  1.82222217e-01,\n",
              "           3.46466571e-01, -4.41950291e-01, -4.14491817e-02,\n",
              "          -2.33884618e-01,  3.54964644e-01,  1.31640121e-01,\n",
              "           2.56292969e-01,  1.41912460e-01,  1.40337184e-01,\n",
              "           3.53586823e-02, -2.17937991e-01,  1.51513487e-01,\n",
              "          -3.72466803e-01,  1.32994801e-01, -2.17810512e-01,\n",
              "          -3.86169523e-01,  1.05146565e-01, -2.79512823e-01,\n",
              "          -4.91079353e-02,  1.28747210e-01, -5.00073135e-02,\n",
              "          -1.96683139e-01,  7.57807568e-02,  6.71136528e-02,\n",
              "           1.82491887e-04,  1.46187007e-01]],\n",
              "\n",
              "        [[ 8.11576173e-02,  3.98561172e-02, -4.18920927e-02,\n",
              "           2.91382745e-02, -7.22681433e-02,  1.58350497e-01,\n",
              "          -2.22506210e-01, -6.25408947e-01, -2.39611983e-01,\n",
              "           4.01712120e-01,  1.04761295e-01,  1.03836536e-01,\n",
              "          -1.00324862e-01,  2.78448164e-01,  7.80453905e-02,\n",
              "          -4.06139567e-02, -1.35873735e-01,  1.28863528e-01,\n",
              "           2.49740705e-01, -1.63806304e-01, -2.49276329e-02,\n",
              "          -1.95962802e-01,  9.66695175e-02, -4.59823012e-02,\n",
              "           2.65994728e-01,  1.27632067e-01,  3.99388038e-02,\n",
              "          -4.27052706e-01,  5.12513630e-02,  3.13905805e-01,\n",
              "          -2.00978220e-01, -3.65997165e-01]],\n",
              "\n",
              "        [[ 5.05114011e-02,  6.78006634e-02,  3.06499720e-01,\n",
              "          -4.11743708e-02, -8.97826329e-02, -3.18273783e-01,\n",
              "          -3.93315703e-01, -1.32606387e-01, -3.85861546e-02,\n",
              "          -1.56204119e-01,  1.80328473e-01, -2.37702474e-01,\n",
              "          -1.33959711e-01,  1.57852679e-01, -4.06192422e-01,\n",
              "          -3.45554426e-02,  1.70288160e-01,  2.07899466e-01,\n",
              "           1.12474993e-01,  1.52372345e-01,  2.58520424e-01,\n",
              "           1.51919439e-01, -6.53962567e-02,  2.36834645e-01,\n",
              "           9.85937268e-02,  2.13598058e-01, -1.91635221e-01,\n",
              "          -3.04810226e-01, -3.91117409e-02,  3.11343316e-02,\n",
              "           2.16606528e-01,  2.56935805e-02]]]], dtype=float32)>"
            ]
          },
          "metadata": {},
          "execution_count": 11
        }
      ]
    },
    {
      "cell_type": "code",
      "source": [
        "conv_weights = conv.weights[0].numpy()\n",
        "print(conv_weights.mean(), conv_weights.std())"
      ],
      "metadata": {
        "colab": {
          "base_uri": "https://localhost:8080/"
        },
        "id": "s1K1GAXkU0Ku",
        "outputId": "efc1dcdb-1f21-4a70-b5c2-7d291030562f"
      },
      "execution_count": 14,
      "outputs": [
        {
          "output_type": "stream",
          "name": "stdout",
          "text": [
            "-0.0065098377 0.22782646\n"
          ]
        }
      ]
    },
    {
      "cell_type": "code",
      "source": [
        "import matplotlib.pyplot as plt\n",
        "\n",
        "plt.hist(conv_weights.reshape(-1,1))\n",
        "plt.xlabel(\"weight\")\n",
        "plt.ylabel(\"count\")\n",
        "plt.show()"
      ],
      "metadata": {
        "colab": {
          "base_uri": "https://localhost:8080/",
          "height": 279
        },
        "id": "0q5YLZOBU5cS",
        "outputId": "da7196c3-4652-45ef-9a93-ba245499e0bf"
      },
      "execution_count": 15,
      "outputs": [
        {
          "output_type": "display_data",
          "data": {
            "image/png": "[encoded data removed]",
            "text/plain": [
              "<Figure size 432x288 with 1 Axes>"
            ]
          },
          "metadata": {
            "needs_background": "light"
          }
        }
      ]
    },
    {
      "cell_type": "code",
      "source": [
        "conv_weights.reshape(-1,1).shape"
      ],
      "metadata": {
        "colab": {
          "base_uri": "https://localhost:8080/"
        },
        "id": "taDH60NuVI48",
        "outputId": "2f2418ca-c673-4626-b29d-aafb87cafd4f"
      },
      "execution_count": 19,
      "outputs": [
        {
          "output_type": "execute_result",
          "data": {
            "text/plain": [
              "(288, 1)"
            ]
          },
          "metadata": {},
          "execution_count": 19
        }
      ]
    },
    {
      "cell_type": "code",
      "source": [
        "conv_weights.shape"
      ],
      "metadata": {
        "colab": {
          "base_uri": "https://localhost:8080/"
        },
        "id": "LrOFerEyV132",
        "outputId": "1e9a07eb-eb86-486b-ad1a-97db337c4db2"
      },
      "execution_count": 24,
      "outputs": [
        {
          "output_type": "execute_result",
          "data": {
            "text/plain": [
              "(3, 3, 1, 32)"
            ]
          },
          "metadata": {},
          "execution_count": 24
        }
      ]
    },
    {
      "cell_type": "code",
      "source": [
        "fig, axs = plt.subplots(2, 16, figsize=(15,2))\n",
        "\n",
        "for i in range(2):\n",
        "    for j in range(16):\n",
        "        axs[i, j].imshow(conv_weights[:,:,0,i*16 + j], vmin=-0.5, vmax=0.5)\n",
        "        axs[i, j].axis('off')\n",
        "\n",
        "plt.show()"
      ],
      "metadata": {
        "colab": {
          "base_uri": "https://localhost:8080/",
          "height": 134
        },
        "id": "mgzBFrXEVZEF",
        "outputId": "087e6941-82ee-4583-883c-66ae102bbc61"
      },
      "execution_count": 25,
      "outputs": [
        {
          "output_type": "display_data",
          "data": {
            "image/png": "[encoded data removed]",
            "text/plain": [
              "<Figure size 1080x144 with 32 Axes>"
            ]
          },
          "metadata": {
            "needs_background": "light"
          }
        }
      ]
    },
    {
      "cell_type": "code",
      "source": [
        "conv_weights[:,:,0]"
      ],
      "metadata": {
        "colab": {
          "base_uri": "https://localhost:8080/"
        },
        "id": "XBcqf6RgVunN",
        "outputId": "e0abbc9a-228c-4eb4-fcad-1193e3789959"
      },
      "execution_count": 23,
      "outputs": [
        {
          "output_type": "execute_result",
          "data": {
            "text/plain": [
              "array([[[-1.48220718e-01, -2.77182847e-01,  1.08491890e-01,\n",
              "         -2.43038520e-01, -2.00723648e-01, -1.54011503e-01,\n",
              "          1.70267597e-02,  1.52056798e-01, -7.35997930e-02,\n",
              "         -1.43009841e-01, -3.45555305e-01, -1.49833426e-01,\n",
              "          1.43565223e-01, -2.71067172e-01, -2.60950148e-01,\n",
              "          2.68019196e-02,  2.71757692e-01, -1.29052728e-01,\n",
              "         -4.07845750e-02,  1.89817861e-01,  1.71886329e-02,\n",
              "          1.82105109e-01, -6.41871914e-02, -1.41360521e-01,\n",
              "          2.37625465e-01,  1.46144599e-01, -7.07132444e-02,\n",
              "          1.62760794e-01,  5.75430095e-02,  6.72889128e-02,\n",
              "         -8.11542198e-02,  8.97996034e-03],\n",
              "        [-8.49163830e-02, -3.96132559e-01,  1.12040557e-01,\n",
              "          9.26233083e-02, -3.91667243e-03, -9.54327583e-02,\n",
              "          2.39643410e-01,  2.01588720e-01,  2.61006188e-02,\n",
              "          2.07760945e-01, -1.31966245e+00,  4.10751067e-02,\n",
              "          2.75963340e-02, -2.18376350e-02, -2.27942526e-01,\n",
              "          3.21309119e-01,  4.68326658e-02, -3.06282461e-01,\n",
              "         -7.23793805e-02, -2.22504452e-01,  1.05866581e-01,\n",
              "          3.00780594e-01,  2.41047423e-02,  1.45728499e-01,\n",
              "         -2.92924494e-01,  6.62061721e-02,  1.56105161e-01,\n",
              "          1.81367949e-01,  2.71942139e-01, -4.56597954e-02,\n",
              "         -2.34769925e-01,  1.90662101e-01],\n",
              "        [ 6.65708333e-02, -1.25808090e-01,  1.73759535e-02,\n",
              "          2.95259088e-01,  7.14145005e-02,  2.74028748e-01,\n",
              "         -2.31409818e-02,  2.08198622e-01, -3.61035615e-01,\n",
              "         -5.75523153e-02, -7.69277632e-01,  1.01539530e-01,\n",
              "         -1.50252685e-01, -1.00385897e-01,  2.29985848e-01,\n",
              "         -2.97636360e-01, -3.90019864e-01, -3.82410914e-01,\n",
              "          1.47272199e-01, -4.72480506e-02,  1.77288000e-02,\n",
              "          1.20494410e-01,  1.38428807e-01,  6.59181476e-02,\n",
              "          5.69479354e-02,  8.08090493e-02,  7.20242187e-02,\n",
              "          3.27951074e-01, -2.29778230e-01, -3.26335341e-01,\n",
              "          3.33800584e-01, -5.38731702e-02]],\n",
              "\n",
              "       [[ 2.16682151e-01, -1.42484590e-01,  1.57875150e-01,\n",
              "         -2.98991621e-01,  2.45568439e-01,  4.27630823e-03,\n",
              "          1.93989813e-01,  1.61314338e-01,  1.82258323e-01,\n",
              "         -5.62836975e-02,  1.73699349e-01, -3.44502628e-01,\n",
              "          7.11270645e-02, -4.83908176e-01,  5.44986571e-04,\n",
              "          1.09122306e-01, -1.49776712e-01,  5.65040745e-02,\n",
              "         -2.02536941e-01,  4.04063731e-01,  7.74284974e-02,\n",
              "         -2.47498080e-01, -7.16415942e-02, -3.47867727e-01,\n",
              "          1.91160426e-01,  6.33437112e-02,  7.23740906e-02,\n",
              "          8.83268341e-02,  6.46115318e-02,  3.20110887e-01,\n",
              "          5.65132089e-02,  1.79902047e-01],\n",
              "        [ 1.06736176e-01,  7.25354180e-02, -1.30192056e-01,\n",
              "         -1.16015226e-01,  1.90477625e-01,  2.43671671e-01,\n",
              "          1.61929041e-01,  1.63482308e-01,  3.09097260e-01,\n",
              "          3.29172462e-01, -7.49911010e-01,  3.39374274e-01,\n",
              "          8.15651491e-02, -7.29653612e-02,  3.08740258e-01,\n",
              "          9.90876406e-02,  3.29518348e-01,  5.86174466e-02,\n",
              "          3.52806672e-02, -2.70769030e-01,  2.19613081e-03,\n",
              "          2.34647274e-01, -6.71074316e-02, -5.63456565e-02,\n",
              "         -1.12293459e-01,  8.62234980e-02,  9.49791670e-02,\n",
              "          1.17075026e-01, -9.85063687e-02,  6.45672828e-02,\n",
              "         -2.91930676e-01, -1.90064937e-01],\n",
              "        [-3.18971068e-01,  3.96458447e-01, -3.87493551e-01,\n",
              "          3.41037750e-01, -9.64546204e-02, -2.53106147e-01,\n",
              "         -2.31839553e-01,  1.37436152e-01,  2.59156585e-01,\n",
              "         -2.72698790e-01, -4.15107280e-01,  2.02066675e-02,\n",
              "         -1.51442707e-01,  2.89874226e-01,  9.58171040e-02,\n",
              "         -2.46990681e-01,  8.85223672e-02,  2.06518590e-01,\n",
              "          1.72109887e-01, -1.10924467e-01,  2.24096701e-01,\n",
              "          1.95168063e-01,  9.08004567e-02,  3.99966478e-01,\n",
              "         -4.05984372e-01,  7.09735379e-02, -1.30507693e-01,\n",
              "         -9.20788199e-02, -6.03954196e-01, -4.13831621e-01,\n",
              "          2.36895531e-01,  4.07829508e-02]],\n",
              "\n",
              "       [[-5.32115810e-02, -2.37405226e-02, -2.16081634e-01,\n",
              "         -7.85132498e-02, -8.17428902e-03,  1.82222217e-01,\n",
              "          3.46466571e-01, -4.41950291e-01, -4.14491817e-02,\n",
              "         -2.33884618e-01,  3.54964644e-01,  1.31640121e-01,\n",
              "          2.56292969e-01,  1.41912460e-01,  1.40337184e-01,\n",
              "          3.53586823e-02, -2.17937991e-01,  1.51513487e-01,\n",
              "         -3.72466803e-01,  1.32994801e-01, -2.17810512e-01,\n",
              "         -3.86169523e-01,  1.05146565e-01, -2.79512823e-01,\n",
              "         -4.91079353e-02,  1.28747210e-01, -5.00073135e-02,\n",
              "         -1.96683139e-01,  7.57807568e-02,  6.71136528e-02,\n",
              "          1.82491887e-04,  1.46187007e-01],\n",
              "        [ 8.11576173e-02,  3.98561172e-02, -4.18920927e-02,\n",
              "          2.91382745e-02, -7.22681433e-02,  1.58350497e-01,\n",
              "         -2.22506210e-01, -6.25408947e-01, -2.39611983e-01,\n",
              "          4.01712120e-01,  1.04761295e-01,  1.03836536e-01,\n",
              "         -1.00324862e-01,  2.78448164e-01,  7.80453905e-02,\n",
              "         -4.06139567e-02, -1.35873735e-01,  1.28863528e-01,\n",
              "          2.49740705e-01, -1.63806304e-01, -2.49276329e-02,\n",
              "         -1.95962802e-01,  9.66695175e-02, -4.59823012e-02,\n",
              "          2.65994728e-01,  1.27632067e-01,  3.99388038e-02,\n",
              "         -4.27052706e-01,  5.12513630e-02,  3.13905805e-01,\n",
              "         -2.00978220e-01, -3.65997165e-01],\n",
              "        [ 5.05114011e-02,  6.78006634e-02,  3.06499720e-01,\n",
              "         -4.11743708e-02, -8.97826329e-02, -3.18273783e-01,\n",
              "         -3.93315703e-01, -1.32606387e-01, -3.85861546e-02,\n",
              "         -1.56204119e-01,  1.80328473e-01, -2.37702474e-01,\n",
              "         -1.33959711e-01,  1.57852679e-01, -4.06192422e-01,\n",
              "         -3.45554426e-02,  1.70288160e-01,  2.07899466e-01,\n",
              "          1.12474993e-01,  1.52372345e-01,  2.58520424e-01,\n",
              "          1.51919439e-01, -6.53962567e-02,  2.36834645e-01,\n",
              "          9.85937268e-02,  2.13598058e-01, -1.91635221e-01,\n",
              "         -3.04810226e-01, -3.91117409e-02,  3.11343316e-02,\n",
              "          2.16606528e-01,  2.56935805e-02]]], dtype=float32)"
            ]
          },
          "metadata": {},
          "execution_count": 23
        }
      ]
    },
    {
      "cell_type": "code",
      "source": [
        "no_training_model = keras.Sequential()\n",
        "no_training_model.add(keras.layers.Conv2D(32, kernel_size = 3, activation = \"relu\", padding = \"same\", input_shape = (28,28,1)))"
      ],
      "metadata": {
        "id": "XTxyjMSaU0C0"
      },
      "execution_count": 26,
      "outputs": []
    },
    {
      "cell_type": "code",
      "source": [
        "no_training_conv = no_training_model.layers[0]\n",
        "print(no_training_conv.weights[0].shape)"
      ],
      "metadata": {
        "colab": {
          "base_uri": "https://localhost:8080/"
        },
        "id": "3AWcJIzYWxeN",
        "outputId": "bf3b2c68-4621-464d-a693-d2f82faf98b9"
      },
      "execution_count": 27,
      "outputs": [
        {
          "output_type": "stream",
          "name": "stdout",
          "text": [
            "(3, 3, 1, 32)\n"
          ]
        }
      ]
    },
    {
      "cell_type": "code",
      "source": [
        "no_training_model"
      ],
      "metadata": {
        "colab": {
          "base_uri": "https://localhost:8080/"
        },
        "id": "kbvBvuIQW3dB",
        "outputId": "b7e3cedf-df96-4537-f026-35b293c28d93"
      },
      "execution_count": 28,
      "outputs": [
        {
          "output_type": "execute_result",
          "data": {
            "text/plain": [
              "<keras.engine.sequential.Sequential at 0x7efe11578e10>"
            ]
          },
          "metadata": {},
          "execution_count": 28
        }
      ]
    },
    {
      "cell_type": "code",
      "source": [
        "no_training_model.layers[0]"
      ],
      "metadata": {
        "colab": {
          "base_uri": "https://localhost:8080/"
        },
        "id": "6059QYtyUz9a",
        "outputId": "371874f7-2dc5-4433-aac3-03ef3655f1bd"
      },
      "execution_count": 30,
      "outputs": [
        {
          "output_type": "execute_result",
          "data": {
            "text/plain": [
              "<keras.layers.convolutional.Conv2D at 0x7efe115042d0>"
            ]
          },
          "metadata": {},
          "execution_count": 30
        }
      ]
    },
    {
      "cell_type": "code",
      "source": [
        "no_training_weights = no_training_conv.weights[0].numpy()\n",
        "\n",
        "print(no_training_weights.mean(), no_training_weights.std())"
      ],
      "metadata": {
        "colab": {
          "base_uri": "https://localhost:8080/"
        },
        "id": "gWK48mA3XJdJ",
        "outputId": "6acc3b06-4c66-41a9-b46d-2282501c2c01"
      },
      "execution_count": 31,
      "outputs": [
        {
          "output_type": "stream",
          "name": "stdout",
          "text": [
            "0.008372022 0.08206716\n"
          ]
        }
      ]
    },
    {
      "cell_type": "code",
      "source": [
        "plt.hist(no_training_weights.reshape(-1, 1))\n",
        "plt.xlabel('weight')\n",
        "plt.ylabel('count')\n",
        "plt.show()"
      ],
      "metadata": {
        "colab": {
          "base_uri": "https://localhost:8080/",
          "height": 279
        },
        "id": "9vKVYVejXNkJ",
        "outputId": "ea2cdeb1-c29c-4231-b610-a42bf26ea6f4"
      },
      "execution_count": 32,
      "outputs": [
        {
          "output_type": "display_data",
          "data": {
            "image/png": "[encoded data removed]",
            "text/plain": [
              "<Figure size 432x288 with 1 Axes>"
            ]
          },
          "metadata": {
            "needs_background": "light"
          }
        }
      ]
    },
    {
      "cell_type": "code",
      "source": [
        "fig, axs = plt.subplots(2, 16, figsize=(15,2))\n",
        "\n",
        "for i in range(2):\n",
        "    for j in range(16):\n",
        "        axs[i, j].imshow(no_training_weights[:,:,0,i*16 + j], vmin=-0.5, vmax=0.5)\n",
        "        axs[i, j].axis('off')\n",
        "\n",
        "plt.show()"
      ],
      "metadata": {
        "colab": {
          "base_uri": "https://localhost:8080/",
          "height": 134
        },
        "id": "dO2uMeHWXPno",
        "outputId": "293e04e9-9e10-418e-b79a-493b9befe313"
      },
      "execution_count": 33,
      "outputs": [
        {
          "output_type": "display_data",
          "data": {
            "image/png": "[encoded data removed]",
            "text/plain": [
              "<Figure size 1080x144 with 32 Axes>"
            ]
          },
          "metadata": {
            "needs_background": "light"
          }
        }
      ]
    },
    {
      "cell_type": "code",
      "source": [
        "print(model.input)"
      ],
      "metadata": {
        "colab": {
          "base_uri": "https://localhost:8080/"
        },
        "id": "F6NoRyJlXXn4",
        "outputId": "0efdcfd4-5494-40c1-b227-80985912d6c7"
      },
      "execution_count": 34,
      "outputs": [
        {
          "output_type": "stream",
          "name": "stdout",
          "text": [
            "KerasTensor(type_spec=TensorSpec(shape=(None, 28, 28, 1), dtype=tf.float32, name='conv2d_input'), name='conv2d_input', description=\"created by layer 'conv2d_input'\")\n"
          ]
        }
      ]
    },
    {
      "cell_type": "code",
      "source": [
        "model"
      ],
      "metadata": {
        "colab": {
          "base_uri": "https://localhost:8080/"
        },
        "id": "kVY2x1mjhyrK",
        "outputId": "66542c3d-1558-4dac-b954-7643123fd3b5"
      },
      "execution_count": 35,
      "outputs": [
        {
          "output_type": "execute_result",
          "data": {
            "text/plain": [
              "<keras.engine.sequential.Sequential at 0x7efe1841c890>"
            ]
          },
          "metadata": {},
          "execution_count": 35
        }
      ]
    },
    {
      "cell_type": "code",
      "source": [
        "model.input"
      ],
      "metadata": {
        "colab": {
          "base_uri": "https://localhost:8080/"
        },
        "id": "D0lEhUsvXXSr",
        "outputId": "03cb8391-5d61-49b2-aeaf-900c910be7bb"
      },
      "execution_count": 36,
      "outputs": [
        {
          "output_type": "execute_result",
          "data": {
            "text/plain": [
              "<KerasTensor: shape=(None, 28, 28, 1) dtype=float32 (created by layer 'conv2d_input')>"
            ]
          },
          "metadata": {},
          "execution_count": 36
        }
      ]
    },
    {
      "cell_type": "code",
      "source": [
        "conv_acti = keras.Model(model.input, model.layers[0].output)\n"
      ],
      "metadata": {
        "id": "Bhw-9Fw5XJbQ"
      },
      "execution_count": 37,
      "outputs": []
    },
    {
      "cell_type": "code",
      "source": [
        "conv_acti"
      ],
      "metadata": {
        "colab": {
          "base_uri": "https://localhost:8080/"
        },
        "id": "i-r8LES_jBz7",
        "outputId": "3deac63a-60f0-4e8b-ad5a-04452e45a9ab"
      },
      "execution_count": 38,
      "outputs": [
        {
          "output_type": "execute_result",
          "data": {
            "text/plain": [
              "<keras.engine.functional.Functional at 0x7efe122e22d0>"
            ]
          },
          "metadata": {},
          "execution_count": 38
        }
      ]
    },
    {
      "cell_type": "code",
      "source": [
        "(train_input, train_target), (test_input, test_target) = keras.datasets.fashion_mnist.load_data()"
      ],
      "metadata": {
        "colab": {
          "base_uri": "https://localhost:8080/"
        },
        "id": "Ts6C5mFvjExt",
        "outputId": "dddb43b1-b590-4036-c2c8-c6661b2dd467"
      },
      "execution_count": 39,
      "outputs": [
        {
          "output_type": "stream",
          "name": "stdout",
          "text": [
            "Downloading data from https://storage.googleapis.com/tensorflow/tf-keras-datasets/train-labels-idx1-ubyte.gz\n",
            "32768/29515 [=================================] - 0s 0us/step\n",
            "40960/29515 [=========================================] - 0s 1us/step\n",
            "Downloading data from https://storage.googleapis.com/tensorflow/tf-keras-datasets/train-images-idx3-ubyte.gz\n",
            "26427392/26421880 [==============================] - 0s 0us/step\n",
            "26435584/26421880 [==============================] - 0s 0us/step\n",
            "Downloading data from https://storage.googleapis.com/tensorflow/tf-keras-datasets/t10k-labels-idx1-ubyte.gz\n",
            "16384/5148 [===============================================================================================] - 0s 0us/step\n",
            "Downloading data from https://storage.googleapis.com/tensorflow/tf-keras-datasets/t10k-images-idx3-ubyte.gz\n",
            "4423680/4422102 [==============================] - 0s 0us/step\n",
            "4431872/4422102 [==============================] - 0s 0us/step\n"
          ]
        }
      ]
    },
    {
      "cell_type": "code",
      "source": [
        "plt.imshow(train_input[0], cmap='gray_r')\n",
        "plt.show()"
      ],
      "metadata": {
        "colab": {
          "base_uri": "https://localhost:8080/",
          "height": 265
        },
        "id": "XWNCTLLIjGqt",
        "outputId": "533e3ce0-b3aa-4bad-db89-48a80de38059"
      },
      "execution_count": 40,
      "outputs": [
        {
          "output_type": "display_data",
          "data": {
            "image/png": "[encoded data removed]",
            "text/plain": [
              "<Figure size 432x288 with 1 Axes>"
            ]
          },
          "metadata": {
            "needs_background": "light"
          }
        }
      ]
    },
    {
      "cell_type": "code",
      "source": [
        "inputs = train_input[0:1].reshape(-1, 28, 28, 1)/255.0\n",
        "\n",
        "feature_maps = conv_acti.predict(inputs)"
      ],
      "metadata": {
        "id": "38Ow3YV3jInL"
      },
      "execution_count": 41,
      "outputs": []
    },
    {
      "cell_type": "code",
      "source": [
        "feature_maps"
      ],
      "metadata": {
        "colab": {
          "base_uri": "https://localhost:8080/"
        },
        "id": "1lhxnEtgjMxU",
        "outputId": "f9ba331f-11d1-41d1-e52c-68e9025f9365"
      },
      "execution_count": 42,
      "outputs": [
        {
          "output_type": "execute_result",
          "data": {
            "text/plain": [
              "array([[[[0.        , 0.00457351, 0.        , ..., 0.        ,\n",
              "          0.        , 0.        ],\n",
              "         [0.        , 0.00457351, 0.        , ..., 0.        ,\n",
              "          0.        , 0.        ],\n",
              "         [0.        , 0.00457351, 0.        , ..., 0.        ,\n",
              "          0.        , 0.        ],\n",
              "         ...,\n",
              "         [0.        , 0.00457351, 0.        , ..., 0.        ,\n",
              "          0.        , 0.        ],\n",
              "         [0.        , 0.00457351, 0.        , ..., 0.        ,\n",
              "          0.        , 0.        ],\n",
              "         [0.        , 0.00457351, 0.        , ..., 0.        ,\n",
              "          0.        , 0.        ]],\n",
              "\n",
              "        [[0.        , 0.00457351, 0.        , ..., 0.        ,\n",
              "          0.        , 0.        ],\n",
              "         [0.        , 0.00457351, 0.        , ..., 0.        ,\n",
              "          0.        , 0.        ],\n",
              "         [0.        , 0.00457351, 0.        , ..., 0.        ,\n",
              "          0.        , 0.        ],\n",
              "         ...,\n",
              "         [0.        , 0.00457351, 0.        , ..., 0.        ,\n",
              "          0.        , 0.        ],\n",
              "         [0.        , 0.00457351, 0.        , ..., 0.        ,\n",
              "          0.        , 0.        ],\n",
              "         [0.        , 0.00457351, 0.        , ..., 0.        ,\n",
              "          0.        , 0.        ]],\n",
              "\n",
              "        [[0.        , 0.00457351, 0.        , ..., 0.        ,\n",
              "          0.        , 0.        ],\n",
              "         [0.        , 0.00457351, 0.        , ..., 0.        ,\n",
              "          0.        , 0.        ],\n",
              "         [0.        , 0.00457351, 0.        , ..., 0.        ,\n",
              "          0.        , 0.        ],\n",
              "         ...,\n",
              "         [0.        , 0.00499569, 0.        , ..., 0.        ,\n",
              "          0.        , 0.        ],\n",
              "         [0.        , 0.00463671, 0.        , ..., 0.        ,\n",
              "          0.        , 0.        ],\n",
              "         [0.        , 0.00448041, 0.        , ..., 0.        ,\n",
              "          0.        , 0.        ]],\n",
              "\n",
              "        ...,\n",
              "\n",
              "        [[0.        , 0.00146659, 0.        , ..., 0.        ,\n",
              "          0.        , 0.        ],\n",
              "         [0.        , 0.00239953, 0.        , ..., 0.        ,\n",
              "          0.        , 0.        ],\n",
              "         [0.        , 0.00457351, 0.        , ..., 0.        ,\n",
              "          0.        , 0.        ],\n",
              "         ...,\n",
              "         [0.        , 0.        , 0.04818068, ..., 0.00319969,\n",
              "          0.        , 0.00335553],\n",
              "         [0.        , 0.        , 0.00525315, ..., 0.00276605,\n",
              "          0.        , 0.        ],\n",
              "         [0.        , 0.00457351, 0.        , ..., 0.        ,\n",
              "          0.        , 0.        ]],\n",
              "\n",
              "        [[0.        , 0.00457351, 0.        , ..., 0.        ,\n",
              "          0.        , 0.        ],\n",
              "         [0.        , 0.00457351, 0.        , ..., 0.        ,\n",
              "          0.        , 0.        ],\n",
              "         [0.        , 0.00457351, 0.        , ..., 0.        ,\n",
              "          0.        , 0.        ],\n",
              "         ...,\n",
              "         [0.        , 0.00457351, 0.        , ..., 0.        ,\n",
              "          0.        , 0.        ],\n",
              "         [0.        , 0.00457351, 0.        , ..., 0.        ,\n",
              "          0.        , 0.        ],\n",
              "         [0.        , 0.00457351, 0.        , ..., 0.        ,\n",
              "          0.        , 0.        ]],\n",
              "\n",
              "        [[0.        , 0.00457351, 0.        , ..., 0.        ,\n",
              "          0.        , 0.        ],\n",
              "         [0.        , 0.00457351, 0.        , ..., 0.        ,\n",
              "          0.        , 0.        ],\n",
              "         [0.        , 0.00457351, 0.        , ..., 0.        ,\n",
              "          0.        , 0.        ],\n",
              "         ...,\n",
              "         [0.        , 0.00457351, 0.        , ..., 0.        ,\n",
              "          0.        , 0.        ],\n",
              "         [0.        , 0.00457351, 0.        , ..., 0.        ,\n",
              "          0.        , 0.        ],\n",
              "         [0.        , 0.00457351, 0.        , ..., 0.        ,\n",
              "          0.        , 0.        ]]]], dtype=float32)"
            ]
          },
          "metadata": {},
          "execution_count": 42
        }
      ]
    },
    {
      "cell_type": "code",
      "source": [
        "model.layers"
      ],
      "metadata": {
        "colab": {
          "base_uri": "https://localhost:8080/"
        },
        "id": "VwWsV8q5jILG",
        "outputId": "d7fee2ca-a24a-4997-b2aa-ff852a7d300f"
      },
      "execution_count": 43,
      "outputs": [
        {
          "output_type": "execute_result",
          "data": {
            "text/plain": [
              "[<keras.layers.convolutional.Conv2D at 0x7efe17dbeb50>,\n",
              " <keras.layers.pooling.MaxPooling2D at 0x7efe17dbed90>,\n",
              " <keras.layers.convolutional.Conv2D at 0x7efe144cd7d0>,\n",
              " <keras.layers.pooling.MaxPooling2D at 0x7efe14493b90>,\n",
              " <keras.layers.core.flatten.Flatten at 0x7efe1841c950>,\n",
              " <keras.layers.core.dense.Dense at 0x7efe1448bf50>,\n",
              " <keras.layers.core.dropout.Dropout at 0x7efe144a4ad0>,\n",
              " <keras.layers.core.dense.Dense at 0x7efe14514850>]"
            ]
          },
          "metadata": {},
          "execution_count": 43
        }
      ]
    },
    {
      "cell_type": "code",
      "source": [
        "print(feature_maps.shape)"
      ],
      "metadata": {
        "colab": {
          "base_uri": "https://localhost:8080/"
        },
        "id": "5qCe3J5-jjAA",
        "outputId": "3a836d4e-5902-4989-978b-1b52dce17f90"
      },
      "execution_count": 44,
      "outputs": [
        {
          "output_type": "stream",
          "name": "stdout",
          "text": [
            "(1, 28, 28, 32)\n"
          ]
        }
      ]
    },
    {
      "cell_type": "code",
      "source": [
        "feature_maps"
      ],
      "metadata": {
        "colab": {
          "base_uri": "https://localhost:8080/"
        },
        "id": "BxmoK6d2kL5A",
        "outputId": "227e0852-1366-4ef8-e625-d50c26d36987"
      },
      "execution_count": 46,
      "outputs": [
        {
          "output_type": "execute_result",
          "data": {
            "text/plain": [
              "array([[[[0.        , 0.00457351, 0.        , ..., 0.        ,\n",
              "          0.        , 0.        ],\n",
              "         [0.        , 0.00457351, 0.        , ..., 0.        ,\n",
              "          0.        , 0.        ],\n",
              "         [0.        , 0.00457351, 0.        , ..., 0.        ,\n",
              "          0.        , 0.        ],\n",
              "         ...,\n",
              "         [0.        , 0.00457351, 0.        , ..., 0.        ,\n",
              "          0.        , 0.        ],\n",
              "         [0.        , 0.00457351, 0.        , ..., 0.        ,\n",
              "          0.        , 0.        ],\n",
              "         [0.        , 0.00457351, 0.        , ..., 0.        ,\n",
              "          0.        , 0.        ]],\n",
              "\n",
              "        [[0.        , 0.00457351, 0.        , ..., 0.        ,\n",
              "          0.        , 0.        ],\n",
              "         [0.        , 0.00457351, 0.        , ..., 0.        ,\n",
              "          0.        , 0.        ],\n",
              "         [0.        , 0.00457351, 0.        , ..., 0.        ,\n",
              "          0.        , 0.        ],\n",
              "         ...,\n",
              "         [0.        , 0.00457351, 0.        , ..., 0.        ,\n",
              "          0.        , 0.        ],\n",
              "         [0.        , 0.00457351, 0.        , ..., 0.        ,\n",
              "          0.        , 0.        ],\n",
              "         [0.        , 0.00457351, 0.        , ..., 0.        ,\n",
              "          0.        , 0.        ]],\n",
              "\n",
              "        [[0.        , 0.00457351, 0.        , ..., 0.        ,\n",
              "          0.        , 0.        ],\n",
              "         [0.        , 0.00457351, 0.        , ..., 0.        ,\n",
              "          0.        , 0.        ],\n",
              "         [0.        , 0.00457351, 0.        , ..., 0.        ,\n",
              "          0.        , 0.        ],\n",
              "         ...,\n",
              "         [0.        , 0.00499569, 0.        , ..., 0.        ,\n",
              "          0.        , 0.        ],\n",
              "         [0.        , 0.00463671, 0.        , ..., 0.        ,\n",
              "          0.        , 0.        ],\n",
              "         [0.        , 0.00448041, 0.        , ..., 0.        ,\n",
              "          0.        , 0.        ]],\n",
              "\n",
              "        ...,\n",
              "\n",
              "        [[0.        , 0.00146659, 0.        , ..., 0.        ,\n",
              "          0.        , 0.        ],\n",
              "         [0.        , 0.00239953, 0.        , ..., 0.        ,\n",
              "          0.        , 0.        ],\n",
              "         [0.        , 0.00457351, 0.        , ..., 0.        ,\n",
              "          0.        , 0.        ],\n",
              "         ...,\n",
              "         [0.        , 0.        , 0.04818068, ..., 0.00319969,\n",
              "          0.        , 0.00335553],\n",
              "         [0.        , 0.        , 0.00525315, ..., 0.00276605,\n",
              "          0.        , 0.        ],\n",
              "         [0.        , 0.00457351, 0.        , ..., 0.        ,\n",
              "          0.        , 0.        ]],\n",
              "\n",
              "        [[0.        , 0.00457351, 0.        , ..., 0.        ,\n",
              "          0.        , 0.        ],\n",
              "         [0.        , 0.00457351, 0.        , ..., 0.        ,\n",
              "          0.        , 0.        ],\n",
              "         [0.        , 0.00457351, 0.        , ..., 0.        ,\n",
              "          0.        , 0.        ],\n",
              "         ...,\n",
              "         [0.        , 0.00457351, 0.        , ..., 0.        ,\n",
              "          0.        , 0.        ],\n",
              "         [0.        , 0.00457351, 0.        , ..., 0.        ,\n",
              "          0.        , 0.        ],\n",
              "         [0.        , 0.00457351, 0.        , ..., 0.        ,\n",
              "          0.        , 0.        ]],\n",
              "\n",
              "        [[0.        , 0.00457351, 0.        , ..., 0.        ,\n",
              "          0.        , 0.        ],\n",
              "         [0.        , 0.00457351, 0.        , ..., 0.        ,\n",
              "          0.        , 0.        ],\n",
              "         [0.        , 0.00457351, 0.        , ..., 0.        ,\n",
              "          0.        , 0.        ],\n",
              "         ...,\n",
              "         [0.        , 0.00457351, 0.        , ..., 0.        ,\n",
              "          0.        , 0.        ],\n",
              "         [0.        , 0.00457351, 0.        , ..., 0.        ,\n",
              "          0.        , 0.        ],\n",
              "         [0.        , 0.00457351, 0.        , ..., 0.        ,\n",
              "          0.        , 0.        ]]]], dtype=float32)"
            ]
          },
          "metadata": {},
          "execution_count": 46
        }
      ]
    },
    {
      "cell_type": "code",
      "source": [
        "fig, axs = plt.subplots(4, 8, figsize=(15,8))\n",
        "\n",
        "for i in range(4):\n",
        "    for j in range(8):\n",
        "        axs[i, j].imshow(feature_maps[0,:,:,i*8 + j])\n",
        "        axs[i, j].axis('off')\n",
        "\n",
        "plt.show()"
      ],
      "metadata": {
        "colab": {
          "base_uri": "https://localhost:8080/",
          "height": 460
        },
        "id": "tu9EWdK_jkOA",
        "outputId": "194d5c88-b233-4b25-e8b8-192408924a9c"
      },
      "execution_count": 45,
      "outputs": [
        {
          "output_type": "display_data",
          "data": {
            "image/png": "[encoded data removed]",
            "text/plain": [
              "<Figure size 1080x576 with 32 Axes>"
            ]
          },
          "metadata": {
            "needs_background": "light"
          }
        }
      ]
    },
    {
      "cell_type": "code",
      "source": [
        "conv2_acti = keras.Model(model.input, model.layers[2].output)"
      ],
      "metadata": {
        "id": "z4MPjdHzjogO"
      },
      "execution_count": 47,
      "outputs": []
    },
    {
      "cell_type": "code",
      "source": [
        "model.layers[2].output"
      ],
      "metadata": {
        "colab": {
          "base_uri": "https://localhost:8080/"
        },
        "id": "pqrXoEfQld3z",
        "outputId": "cb530745-7b78-4834-87e1-b7428fa11cd5"
      },
      "execution_count": 50,
      "outputs": [
        {
          "output_type": "execute_result",
          "data": {
            "text/plain": [
              "<KerasTensor: shape=(None, 14, 14, 64) dtype=float32 (created by layer 'conv2d_1')>"
            ]
          },
          "metadata": {},
          "execution_count": 50
        }
      ]
    },
    {
      "cell_type": "code",
      "source": [
        "feature_maps = conv2_acti.predict(train_input[0:1].reshape(-1, 28, 28, 1)/255.0)"
      ],
      "metadata": {
        "id": "FvFccs6vji75"
      },
      "execution_count": 51,
      "outputs": []
    },
    {
      "cell_type": "code",
      "source": [
        "print(feature_maps.shape)"
      ],
      "metadata": {
        "colab": {
          "base_uri": "https://localhost:8080/"
        },
        "id": "KPu-z9r4lolY",
        "outputId": "5439602d-7cc5-4f9a-c9d8-8c9295487514"
      },
      "execution_count": 52,
      "outputs": [
        {
          "output_type": "stream",
          "name": "stdout",
          "text": [
            "(1, 14, 14, 64)\n"
          ]
        }
      ]
    },
    {
      "cell_type": "code",
      "source": [
        "fig, axs = plt.subplots(8, 8, figsize=(12,12))\n",
        "\n",
        "for i in range(8):\n",
        "    for j in range(8):\n",
        "        axs[i, j].imshow(feature_maps[0,:,:,i*8 + j])\n",
        "        axs[i, j].axis('off')\n",
        "\n",
        "plt.show()"
      ],
      "metadata": {
        "colab": {
          "base_uri": "https://localhost:8080/",
          "height": 683
        },
        "id": "4dGV34Hxlp6b",
        "outputId": "423d7564-93ff-4b9e-d640-d9041405bfdb"
      },
      "execution_count": 53,
      "outputs": [
        {
          "output_type": "display_data",
          "data": {
            "image/png": "[encoded data removed]",
            "text/plain": [
              "<Figure size 864x864 with 64 Axes>"
            ]
          },
          "metadata": {
            "needs_background": "light"
          }
        }
      ]
    },
    {
      "cell_type": "code",
      "source": [
        ""
      ],
      "metadata": {
        "id": "lorCYLTJlreo"
      },
      "execution_count": null,
      "outputs": []
    },
    {
      "cell_type": "code",
      "source": [
        ""
      ],
      "metadata": {
        "id": "N0Wny__Jji3b"
      },
      "execution_count": null,
      "outputs": []
    }
  ]
}