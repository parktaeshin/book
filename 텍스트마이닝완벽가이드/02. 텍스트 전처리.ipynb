{
 "cells": [
  {
   "cell_type": "markdown",
   "id": "8689ad90",
   "metadata": {},
   "source": [
    "# 2.2 토큰화"
   ]
  },
  {
   "cell_type": "code",
   "execution_count": 3,
   "id": "42526dff",
   "metadata": {},
   "outputs": [],
   "source": [
    "# 필요한 nltk library download\n",
    "import nltk\n",
    "# nltk.download('punkt')\n",
    "# nltk.download('webtext')\n",
    "# nltk.download('wordnet')\n",
    "# nltk.download('stopwords')\n",
    "# nltk.download('averaged_perceptron_tagger')\n",
    "# nltk.download('omw-1.4')"
   ]
  },
  {
   "cell_type": "markdown",
   "id": "86d736e1",
   "metadata": {},
   "source": [
    "## 2.2.1 문장 토큰화"
   ]
  },
  {
   "cell_type": "code",
   "execution_count": 4,
   "id": "54e3aa89",
   "metadata": {},
   "outputs": [],
   "source": [
    "para = \"Hello everyone. It's good to see you. Let's start our text mining class!\""
   ]
  },
  {
   "cell_type": "code",
   "execution_count": 5,
   "id": "f7796187",
   "metadata": {},
   "outputs": [
    {
     "name": "stdout",
     "output_type": "stream",
     "text": [
      "['Hello everyone.', \"It's good to see you.\", \"Let's start our text mining class!\"]\n"
     ]
    }
   ],
   "source": [
    "from nltk.tokenize import sent_tokenize\n",
    "\n",
    "# 주어진 텍스트를 문장 단위로 토큰화. 주로 . ! ? 등을 이용\n",
    "\n",
    "print(sent_tokenize(para))"
   ]
  },
  {
   "cell_type": "code",
   "execution_count": null,
   "id": "afe09957",
   "metadata": {},
   "outputs": [],
   "source": []
  }
 ],
 "metadata": {
  "kernelspec": {
   "display_name": "Python 3 (ipykernel)",
   "language": "python",
   "name": "python3"
  },
  "language_info": {
   "codemirror_mode": {
    "name": "ipython",
    "version": 3
   },
   "file_extension": ".py",
   "mimetype": "text/x-python",
   "name": "python",
   "nbconvert_exporter": "python",
   "pygments_lexer": "ipython3",
   "version": "3.8.8"
  }
 },
 "nbformat": 4,
 "nbformat_minor": 5
}
