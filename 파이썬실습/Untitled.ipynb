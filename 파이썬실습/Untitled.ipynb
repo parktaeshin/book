{
 "cells": [
  {
   "cell_type": "code",
   "execution_count": 3,
   "id": "61854bbf",
   "metadata": {},
   "outputs": [],
   "source": [
    "import os\n"
   ]
  },
  {
   "cell_type": "code",
   "execution_count": 16,
   "id": "a3404a32",
   "metadata": {},
   "outputs": [
    {
     "name": "stdout",
     "output_type": "stream",
     "text": [
      "C:\\Ptest\\파이썬실습\n",
      "C:\\Ptest\n",
      "C:\\Ptest\\파이썬실습\n"
     ]
    }
   ],
   "source": [
    "# 파일 기본\n",
    "\n",
    "print(os.getcwd()) # 현재 작업 공간\n",
    "\n",
    "os.chdir(\"..\") # 작업 공간 이동\n",
    "\n",
    "print(os.getcwd()) # 현재 작업 공간\n",
    "\n",
    "# os.chdir(\"c:/ 절대 경로로 이동\")\n",
    "\n",
    "# 원래 위치로 다시 돌아가기\n",
    "\n",
    "os.chdir(\"C:/Ptest/파이썬실습/\")\n",
    "\n",
    "print(os.getcwd())\n"
   ]
  },
  {
   "cell_type": "code",
   "execution_count": 13,
   "id": "30d77e02",
   "metadata": {},
   "outputs": [
    {
     "name": "stdout",
     "output_type": "stream",
     "text": [
      "C:\\Ptest\\파이썬실습/test.txt\n"
     ]
    }
   ],
   "source": [
    "# 파일 경로 만들기\n",
    "\n",
    "filename = os.path.join(os.getcwd() + \"/test.txt\")\n",
    "\n",
    "print(filename)"
   ]
  },
  {
   "cell_type": "code",
   "execution_count": 20,
   "id": "9b7b53b3",
   "metadata": {},
   "outputs": [
    {
     "name": "stdout",
     "output_type": "stream",
     "text": [
      "C:\\Ptest\n"
     ]
    }
   ],
   "source": [
    "# 파일 경로에서 폴더 정보만 가져오기\n",
    "\n",
    "path = os.path.dirname(os.getcwd())\n",
    "print(path)\n",
    "\n",
    "## 현재 작업공간인 파이썬실습 디렉토리 위의 디렉토리가 출력됨"
   ]
  },
  {
   "cell_type": "code",
   "execution_count": 25,
   "id": "707221d6",
   "metadata": {},
   "outputs": [
    {
     "name": "stdout",
     "output_type": "stream",
     "text": [
      "['.ipynb_checkpoints', 'test', 'test.txt', 'Untitled.ipynb']\n",
      "['.ipynb_checkpoints', 'test', 'test.txt', 'Untitled.ipynb'] <class 'list'>\n",
      "./test\n"
     ]
    }
   ],
   "source": [
    "# 파일 목록 가져오기\n",
    "# os.listdir()   현재 디렉토리의 모든 폴더, 파일 목록 가져오기\n",
    "# os.listdir(\"지정한 디렉토리\")       지정한 디렉토리 내의 모든 파일과 디렉토리의 리스트 리턴\n",
    "\n",
    "print(os.listdir())\n",
    "filelist = os.listdir()\n",
    "print(filelist, type(filelist))\n",
    "\n",
    "print(\"./test\")\n"
   ]
  },
  {
   "cell_type": "code",
   "execution_count": 67,
   "id": "f1cfb674",
   "metadata": {},
   "outputs": [
    {
     "name": "stdout",
     "output_type": "stream",
     "text": [
      "result 타입 <class 'generator'>\n",
      "[('./', ['.ipynb_checkpoints', 'test'], ['test.txt', 'Untitled.ipynb']), ('./.ipynb_checkpoints', [], ['Untitled-checkpoint.ipynb']), ('./test', [], ['test.txt'])]\n"
     ]
    }
   ],
   "source": [
    "# 파일 목록 가져오기(하위 폴더의 파일 모두 포함)\n",
    "\n",
    "result = os.walk(\"./\") # 디렉토리를 넣어야 함. \n",
    "\n",
    "print(f\"result 타입 {type(result)}\")\n",
    "print(list(result))\n"
   ]
  },
  {
   "cell_type": "code",
   "execution_count": 65,
   "id": "6c5424b6",
   "metadata": {},
   "outputs": [
    {
     "name": "stdout",
     "output_type": "stream",
     "text": [
      "('./', ['.ipynb_checkpoints', 'test'], ['test.txt', 'Untitled.ipynb'])\n",
      "('./.ipynb_checkpoints', [], ['Untitled-checkpoint.ipynb'])\n",
      "('./test', [], ['test.txt'])\n"
     ]
    }
   ],
   "source": [
    "result = os.walk(\"./\") # 디렉토리를 넣어야 함. \n",
    "\n",
    "for d in result : # (./, [], [] 형태 - root, directoy, file 형식 )\n",
    "    print(d)\n",
    "    \n"
   ]
  },
  {
   "cell_type": "code",
   "execution_count": 63,
   "id": "3d740bbe",
   "metadata": {},
   "outputs": [
    {
     "name": "stdout",
     "output_type": "stream",
     "text": [
      "root : ./\n",
      "d : .ipynb_checkpoints\n",
      "d : test\n",
      "file : ['test.txt', 'Untitled.ipynb']\n",
      "file : ['test.txt', 'Untitled.ipynb']\n",
      "root : ./.ipynb_checkpoints\n",
      "file : ['Untitled-checkpoint.ipynb']\n",
      "root : ./test\n",
      "file : ['test.txt']\n"
     ]
    }
   ],
   "source": [
    "# (./, [], [] 형태 - root, directoy, file 형식 )\n",
    "\n",
    "result = os.walk(\"./\") # 디렉토리를 넣어야 함. \n",
    "\n",
    "#print(list(result),\"\\n\")\n",
    "\n",
    "for root, dirs, files in result :\n",
    "    print(f\"root : {root}\")\n",
    "    \n",
    "    for d in dirs :\n",
    "        print(f\"d : {d}\")\n",
    "    for f in files :\n",
    "        print(f\"file : {files}\")"
   ]
  },
  {
   "cell_type": "code",
   "execution_count": 70,
   "id": "650c9fdb",
   "metadata": {},
   "outputs": [
    {
     "ename": "SyntaxError",
     "evalue": "f-string expression part cannot include a backslash (Temp/ipykernel_43920/1836750323.py, line 1)",
     "output_type": "error",
     "traceback": [
      "\u001b[1;36m  File \u001b[1;32m\"C:\\Users\\qkfkd\\AppData\\Local\\Temp/ipykernel_43920/1836750323.py\"\u001b[1;36m, line \u001b[1;32m1\u001b[0m\n\u001b[1;33m    print(f\"{r\\wn}\")\u001b[0m\n\u001b[1;37m          ^\u001b[0m\n\u001b[1;31mSyntaxError\u001b[0m\u001b[1;31m:\u001b[0m f-string expression part cannot include a backslash\n"
     ]
    }
   ],
   "source": [
    "print(r)"
   ]
  }
 ],
 "metadata": {
  "kernelspec": {
   "display_name": "Python 3 (ipykernel)",
   "language": "python",
   "name": "python3"
  },
  "language_info": {
   "codemirror_mode": {
    "name": "ipython",
    "version": 3
   },
   "file_extension": ".py",
   "mimetype": "text/x-python",
   "name": "python",
   "nbconvert_exporter": "python",
   "pygments_lexer": "ipython3",
   "version": "3.8.8"
  }
 },
 "nbformat": 4,
 "nbformat_minor": 5
}
