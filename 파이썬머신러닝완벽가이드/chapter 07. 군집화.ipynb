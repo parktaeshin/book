{
 "cells": [
  {
   "cell_type": "markdown",
   "id": "48c89091",
   "metadata": {},
   "source": [
    "# K-평균을 이용한 붓꽃 데이터 세트 군집화"
   ]
  },
  {
   "cell_type": "code",
   "execution_count": 5,
   "id": "24e5ce2c",
   "metadata": {},
   "outputs": [
    {
     "data": {
      "text/html": [
       "<div>\n",
       "<style scoped>\n",
       "    .dataframe tbody tr th:only-of-type {\n",
       "        vertical-align: middle;\n",
       "    }\n",
       "\n",
       "    .dataframe tbody tr th {\n",
       "        vertical-align: top;\n",
       "    }\n",
       "\n",
       "    .dataframe thead th {\n",
       "        text-align: right;\n",
       "    }\n",
       "</style>\n",
       "<table border=\"1\" class=\"dataframe\">\n",
       "  <thead>\n",
       "    <tr style=\"text-align: right;\">\n",
       "      <th></th>\n",
       "      <th>sepal_length</th>\n",
       "      <th>sepal_width</th>\n",
       "      <th>petal_length</th>\n",
       "      <th>petal_width</th>\n",
       "    </tr>\n",
       "  </thead>\n",
       "  <tbody>\n",
       "    <tr>\n",
       "      <th>0</th>\n",
       "      <td>5.1</td>\n",
       "      <td>3.5</td>\n",
       "      <td>1.4</td>\n",
       "      <td>0.2</td>\n",
       "    </tr>\n",
       "    <tr>\n",
       "      <th>1</th>\n",
       "      <td>4.9</td>\n",
       "      <td>3.0</td>\n",
       "      <td>1.4</td>\n",
       "      <td>0.2</td>\n",
       "    </tr>\n",
       "    <tr>\n",
       "      <th>2</th>\n",
       "      <td>4.7</td>\n",
       "      <td>3.2</td>\n",
       "      <td>1.3</td>\n",
       "      <td>0.2</td>\n",
       "    </tr>\n",
       "  </tbody>\n",
       "</table>\n",
       "</div>"
      ],
      "text/plain": [
       "   sepal_length  sepal_width  petal_length  petal_width\n",
       "0           5.1          3.5           1.4          0.2\n",
       "1           4.9          3.0           1.4          0.2\n",
       "2           4.7          3.2           1.3          0.2"
      ]
     },
     "execution_count": 5,
     "metadata": {},
     "output_type": "execute_result"
    }
   ],
   "source": [
    "from sklearn.preprocessing import scale\n",
    "from sklearn.datasets import load_iris\n",
    "from sklearn.cluster import KMeans\n",
    "import matplotlib.pyplot as plt\n",
    "import numpy as np\n",
    "import pandas as pd\n",
    "%matplotlib inline\n",
    "\n",
    "iris = load_iris()\n",
    "# 보다 편리한 데이터 Handling을 위해 DataFrame으로 변환\n",
    "irisDF = pd.DataFrame(data=iris.data, columns=['sepal_length','sepal_width','petal_length','petal_width'])\n",
    "irisDF.head(3)"
   ]
  },
  {
   "cell_type": "code",
   "execution_count": 19,
   "id": "5bfb69d0",
   "metadata": {},
   "outputs": [],
   "source": [
    "plt.rcParams['xtick.color'] = 'white'\n",
    "plt.rcParams['ytick.color'] = 'white'\n",
    "plt.rcParams['axes.labelcolor'] = 'white'\n",
    "plt.rcParams['axes.titlecolor'] = 'white'\n",
    "plt.rcParams['figure.titlesize'] = 30\n",
    "plt.rcParams[\"font.family\"] = \"NanumGothic\"\n"
   ]
  },
  {
   "cell_type": "code",
   "execution_count": 6,
   "id": "693e0b85",
   "metadata": {},
   "outputs": [
    {
     "data": {
      "text/plain": [
       "KMeans(n_clusters=3, random_state=0)"
      ]
     },
     "execution_count": 6,
     "metadata": {},
     "output_type": "execute_result"
    }
   ],
   "source": [
    "kmeans = KMeans(n_clusters = 3, init = \"k-means++\", max_iter = 300, random_state = 0 )\n",
    "kmeans.fit(irisDF)"
   ]
  },
  {
   "cell_type": "code",
   "execution_count": 7,
   "id": "a333fbe8",
   "metadata": {},
   "outputs": [
    {
     "name": "stdout",
     "output_type": "stream",
     "text": [
      "[1 1 1 1 1 1 1 1 1 1 1 1 1 1 1 1 1 1 1 1 1 1 1 1 1 1 1 1 1 1 1 1 1 1 1 1 1\n",
      " 1 1 1 1 1 1 1 1 1 1 1 1 1 0 0 2 0 0 0 0 0 0 0 0 0 0 0 0 0 0 0 0 0 0 0 0 0\n",
      " 0 0 0 2 0 0 0 0 0 0 0 0 0 0 0 0 0 0 0 0 0 0 0 0 0 0 2 0 2 2 2 2 0 2 2 2 2\n",
      " 2 2 0 0 2 2 2 2 0 2 0 2 0 2 2 0 0 2 2 2 2 2 0 2 2 2 2 0 2 2 2 0 2 2 2 0 2\n",
      " 2 0]\n"
     ]
    }
   ],
   "source": [
    "print(kmeans.labels_)"
   ]
  },
  {
   "cell_type": "code",
   "execution_count": 12,
   "id": "ec15034a",
   "metadata": {},
   "outputs": [
    {
     "name": "stdout",
     "output_type": "stream",
     "text": [
      "target  cluster\n",
      "0       1          50\n",
      "1       0          48\n",
      "        2           2\n",
      "2       0          14\n",
      "        2          36\n",
      "Name: sepal_length, dtype: int64\n"
     ]
    }
   ],
   "source": [
    "irisDF[\"target\"] = iris.target\n",
    "irisDF[\"cluster\"] = kmeans.labels_\n",
    "iris_result = irisDF.groupby([\"target\", \"cluster\"])[\"sepal_length\"].count()\n",
    "print(iris_result)"
   ]
  },
  {
   "cell_type": "code",
   "execution_count": 14,
   "id": "6125c66f",
   "metadata": {},
   "outputs": [
    {
     "data": {
      "text/html": [
       "<div>\n",
       "<style scoped>\n",
       "    .dataframe tbody tr th:only-of-type {\n",
       "        vertical-align: middle;\n",
       "    }\n",
       "\n",
       "    .dataframe tbody tr th {\n",
       "        vertical-align: top;\n",
       "    }\n",
       "\n",
       "    .dataframe thead th {\n",
       "        text-align: right;\n",
       "    }\n",
       "</style>\n",
       "<table border=\"1\" class=\"dataframe\">\n",
       "  <thead>\n",
       "    <tr style=\"text-align: right;\">\n",
       "      <th></th>\n",
       "      <th>sepal_length</th>\n",
       "      <th>sepal_width</th>\n",
       "      <th>petal_length</th>\n",
       "      <th>petal_width</th>\n",
       "      <th>target</th>\n",
       "      <th>cluster</th>\n",
       "      <th>pca_x</th>\n",
       "      <th>pca_y</th>\n",
       "    </tr>\n",
       "  </thead>\n",
       "  <tbody>\n",
       "    <tr>\n",
       "      <th>0</th>\n",
       "      <td>5.1</td>\n",
       "      <td>3.5</td>\n",
       "      <td>1.4</td>\n",
       "      <td>0.2</td>\n",
       "      <td>0</td>\n",
       "      <td>1</td>\n",
       "      <td>-2.684126</td>\n",
       "      <td>0.319397</td>\n",
       "    </tr>\n",
       "    <tr>\n",
       "      <th>1</th>\n",
       "      <td>4.9</td>\n",
       "      <td>3.0</td>\n",
       "      <td>1.4</td>\n",
       "      <td>0.2</td>\n",
       "      <td>0</td>\n",
       "      <td>1</td>\n",
       "      <td>-2.714142</td>\n",
       "      <td>-0.177001</td>\n",
       "    </tr>\n",
       "    <tr>\n",
       "      <th>2</th>\n",
       "      <td>4.7</td>\n",
       "      <td>3.2</td>\n",
       "      <td>1.3</td>\n",
       "      <td>0.2</td>\n",
       "      <td>0</td>\n",
       "      <td>1</td>\n",
       "      <td>-2.888991</td>\n",
       "      <td>-0.144949</td>\n",
       "    </tr>\n",
       "  </tbody>\n",
       "</table>\n",
       "</div>"
      ],
      "text/plain": [
       "   sepal_length  sepal_width  petal_length  petal_width  target  cluster  \\\n",
       "0           5.1          3.5           1.4          0.2       0        1   \n",
       "1           4.9          3.0           1.4          0.2       0        1   \n",
       "2           4.7          3.2           1.3          0.2       0        1   \n",
       "\n",
       "      pca_x     pca_y  \n",
       "0 -2.684126  0.319397  \n",
       "1 -2.714142 -0.177001  \n",
       "2 -2.888991 -0.144949  "
      ]
     },
     "execution_count": 14,
     "metadata": {},
     "output_type": "execute_result"
    }
   ],
   "source": [
    "from sklearn.decomposition import PCA\n",
    "\n",
    "pca = PCA(n_components=2)\n",
    "pca_transformed = pca.fit_transform(iris.data)\n",
    "\n",
    "irisDF[\"pca_x\"] = pca_transformed[:,0]\n",
    "irisDF[\"pca_y\"] = pca_transformed[:,1]\n",
    "irisDF.head(3)"
   ]
  },
  {
   "cell_type": "code",
   "execution_count": 15,
   "id": "eb49b14d",
   "metadata": {},
   "outputs": [],
   "source": [
    "marker0_ind = irisDF[irisDF[\"cluster\"] == 0].index\n",
    "marker1_ind = irisDF[irisDF[\"cluster\"] == 1].index\n",
    "marker2_ind = irisDF[irisDF[\"cluster\"] == 2].index"
   ]
  },
  {
   "cell_type": "code",
   "execution_count": 22,
   "id": "27f845cc",
   "metadata": {},
   "outputs": [
    {
     "data": {
      "image/png": "[encoded data removed]",
      "text/plain": [
       "<Figure size 432x288 with 1 Axes>"
      ]
     },
     "metadata": {
      "needs_background": "dark"
     },
     "output_type": "display_data"
    }
   ],
   "source": [
    "plt.scatter(x=irisDF.loc[marker0_ind, \"pca_x\"], y = irisDF.loc[marker0_ind, \"pca_y\"], marker =\"o\")\n",
    "plt.scatter(x=irisDF.loc[marker1_ind, \"pca_x\"], y = irisDF.loc[marker1_ind, \"pca_y\"], marker =\"s\")\n",
    "plt.scatter(x=irisDF.loc[marker2_ind, \"pca_x\"], y = irisDF.loc[marker2_ind, \"pca_y\"], marker =\"^\")\n",
    "\n",
    "plt.xlabel(\"PCA 1\")\n",
    "plt.ylabel(\"PCA 2\")\n",
    "plt.title(\"3 Clusters Visualiztion by 2 PCA Componets\")\n",
    "plt.show()"
   ]
  },
  {
   "cell_type": "markdown",
   "id": "128028f8",
   "metadata": {},
   "source": [
    "## 군집화 알고리즘 테스트를 위한 데이터 생성"
   ]
  },
  {
   "cell_type": "code",
   "execution_count": 23,
   "id": "59cabecd",
   "metadata": {},
   "outputs": [
    {
     "name": "stdout",
     "output_type": "stream",
     "text": [
      "(200, 2) (200,)\n",
      "[0 1 2] [67 67 66]\n"
     ]
    }
   ],
   "source": [
    "import numpy as np\n",
    "import matplotlib.pyplot as plt\n",
    "from sklearn.cluster import KMeans\n",
    "from sklearn.datasets import make_blobs\n",
    "%matplotlib inline\n",
    "\n",
    "# 총 200개의 레코드와 2개의 피처, 3개의 군집화, 표준편차 0.8\n",
    "X,y = make_blobs(n_samples = 200, n_features = 2, centers = 3, cluster_std = 0.8, random_state = 0)\n",
    "print(X.shape, y.shape)\n",
    "\n",
    "# Y.target 값의 분포 확인\n",
    "\n",
    "unique, counts = np.unique(y, return_counts = True)\n",
    "print(unique, counts)"
   ]
  },
  {
   "cell_type": "code",
   "execution_count": 27,
   "id": "f0991c26",
   "metadata": {},
   "outputs": [
    {
     "data": {
      "text/html": [
       "<div>\n",
       "<style scoped>\n",
       "    .dataframe tbody tr th:only-of-type {\n",
       "        vertical-align: middle;\n",
       "    }\n",
       "\n",
       "    .dataframe tbody tr th {\n",
       "        vertical-align: top;\n",
       "    }\n",
       "\n",
       "    .dataframe thead th {\n",
       "        text-align: right;\n",
       "    }\n",
       "</style>\n",
       "<table border=\"1\" class=\"dataframe\">\n",
       "  <thead>\n",
       "    <tr style=\"text-align: right;\">\n",
       "      <th></th>\n",
       "      <th>ftr1</th>\n",
       "      <th>ftr2</th>\n",
       "      <th>target</th>\n",
       "    </tr>\n",
       "  </thead>\n",
       "  <tbody>\n",
       "    <tr>\n",
       "      <th>0</th>\n",
       "      <td>-1.692427</td>\n",
       "      <td>3.622025</td>\n",
       "      <td>2</td>\n",
       "    </tr>\n",
       "    <tr>\n",
       "      <th>1</th>\n",
       "      <td>0.697940</td>\n",
       "      <td>4.428867</td>\n",
       "      <td>0</td>\n",
       "    </tr>\n",
       "    <tr>\n",
       "      <th>2</th>\n",
       "      <td>1.100228</td>\n",
       "      <td>4.606317</td>\n",
       "      <td>0</td>\n",
       "    </tr>\n",
       "  </tbody>\n",
       "</table>\n",
       "</div>"
      ],
      "text/plain": [
       "       ftr1      ftr2  target\n",
       "0 -1.692427  3.622025       2\n",
       "1  0.697940  4.428867       0\n",
       "2  1.100228  4.606317       0"
      ]
     },
     "execution_count": 27,
     "metadata": {},
     "output_type": "execute_result"
    }
   ],
   "source": [
    "import pandas as pd\n",
    "\n",
    "clusterDF = pd.DataFrame(data = X, columns = [\"ftr1\", \"ftr2\"])\n",
    "clusterDF[\"target\"] = y\n",
    "clusterDF.head(3)"
   ]
  },
  {
   "cell_type": "code",
   "execution_count": 28,
   "id": "48ee9fe6",
   "metadata": {},
   "outputs": [
    {
     "data": {
      "image/png": "[encoded data removed]",
      "text/plain": [
       "<Figure size 432x288 with 1 Axes>"
      ]
     },
     "metadata": {
      "needs_background": "dark"
     },
     "output_type": "display_data"
    }
   ],
   "source": [
    "target_list = np.unique(y)\n",
    "\n",
    "# 각 타깃별 산접도의 마커 값.\n",
    "markers = [\"o\",\"s\",\"^\",\"P\",\"D\",\"H\",\"x\"]\n",
    "\n",
    "# 3개의 군집 영역으로 구분한 데이터 세트를 생성했으므로 target_list는 [0,1,2]\n",
    "\n",
    "# target =0, target = 1, target =2 로 scatter plot을 marker별로 생성\n",
    "\n",
    "for target in target_list:\n",
    "    \n",
    "    target_cluster = clusterDF[clusterDF[\"target\"] == target]\n",
    "    plt.scatter(x = target_cluster[\"ftr1\"], y = target_cluster[\"ftr2\"], edgecolor = \"k\", marker = markers[target])\n",
    "plt.show()"
   ]
  },
  {
   "cell_type": "code",
   "execution_count": 29,
   "id": "d395a167",
   "metadata": {},
   "outputs": [
    {
     "data": {
      "text/plain": [
       "array([[-1.69242695,  3.62202539],\n",
       "       [ 0.69794036,  4.4288665 ],\n",
       "       [ 1.10022802,  4.60631734],\n",
       "       [-1.44872404,  3.38424521],\n",
       "       [ 1.21486062,  5.36489604],\n",
       "       [-0.90830163,  1.97077775],\n",
       "       [ 2.47211942,  0.43703328],\n",
       "       [ 1.65684156,  2.4412893 ],\n",
       "       [ 1.07779975,  4.62537882],\n",
       "       [-1.67942681,  2.60200265],\n",
       "       [ 0.65372852,  5.28174338],\n",
       "       [-0.97188549,  2.79022351],\n",
       "       [ 1.58510026,  4.40112734],\n",
       "       [ 1.29307545,  3.42933812],\n",
       "       [ 0.25043139,  4.34534364],\n",
       "       [-1.07307179,  2.73974218],\n",
       "       [ 2.68432989,  0.52452838],\n",
       "       [ 2.16883005,  0.64220093],\n",
       "       [ 0.32575305,  2.92276125],\n",
       "       [-3.15145159,  4.56947655],\n",
       "       [-1.06408682,  3.19760583],\n",
       "       [ 1.45946366,  0.23651283],\n",
       "       [ 1.01287689,  4.15404025],\n",
       "       [ 1.73407165,  4.17977925],\n",
       "       [-3.3313554 ,  2.09987679],\n",
       "       [-0.3148482 ,  4.1335951 ],\n",
       "       [ 1.5403728 , -0.88105886],\n",
       "       [-2.13821915,  1.76764908],\n",
       "       [-0.84056487,  3.83076375],\n",
       "       [-1.57620513,  2.83203804],\n",
       "       [ 1.34880003,  3.07479238],\n",
       "       [ 0.9846701 ,  5.73248372],\n",
       "       [-1.56064117,  2.68837251],\n",
       "       [ 0.64537489,  3.70582348],\n",
       "       [ 1.40457611, -0.2754758 ],\n",
       "       [ 2.47438034,  0.96840133],\n",
       "       [ 1.2613632 ,  4.86904586],\n",
       "       [ 2.2792072 ,  0.81914335],\n",
       "       [ 2.56737274, -0.39590118],\n",
       "       [-3.00135965,  2.53550306],\n",
       "       [ 1.29971052,  0.56962391],\n",
       "       [-2.04883088,  2.60511956],\n",
       "       [-2.94173477,  3.2022677 ],\n",
       "       [-0.97504948,  3.95935924],\n",
       "       [ 2.47031725,  5.02862305],\n",
       "       [ 1.96050262,  5.26569121],\n",
       "       [ 0.43680395,  4.32925177],\n",
       "       [-0.67209649,  2.55517362],\n",
       "       [ 0.03777135,  5.85868428],\n",
       "       [ 1.02948386,  4.54576485],\n",
       "       [ 0.4688124 ,  4.01359439],\n",
       "       [ 1.94896306,  0.65943096],\n",
       "       [-2.04873889,  2.50093081],\n",
       "       [-1.65303763,  4.72326106],\n",
       "       [-1.61533654,  3.73402043],\n",
       "       [-1.80964941,  1.62470291],\n",
       "       [ 2.18047275,  1.08340849],\n",
       "       [ 2.79195458,  1.15264578],\n",
       "       [ 1.43754273,  4.13714832],\n",
       "       [ 2.16687183,  5.82049867],\n",
       "       [-2.59431079,  1.84050826],\n",
       "       [-0.20839607,  3.04926447],\n",
       "       [ 0.9537243 ,  4.64645282],\n",
       "       [ 1.57741467,  0.70732628],\n",
       "       [ 1.75992205,  0.70616032],\n",
       "       [-1.29782906,  3.40495733],\n",
       "       [ 0.82262991,  0.94827326],\n",
       "       [ 1.32500974,  1.79127669],\n",
       "       [-1.49599957,  1.59251018],\n",
       "       [ 2.00067424,  2.26833784],\n",
       "       [ 1.80805715, -0.44313939],\n",
       "       [ 0.11966798,  5.14734871],\n",
       "       [ 0.62814724,  5.78319831],\n",
       "       [-1.84646324,  3.21392697],\n",
       "       [-0.02596621,  4.92577961],\n",
       "       [-1.48730803,  3.31295168],\n",
       "       [ 1.69084152,  0.91164699],\n",
       "       [ 3.86271468,  0.86385794],\n",
       "       [ 1.29051152,  0.62087824],\n",
       "       [-3.6542418 ,  3.40293788],\n",
       "       [-2.02937406,  2.53306057],\n",
       "       [ 1.11821099,  3.98236258],\n",
       "       [ 0.893695  ,  4.63226613],\n",
       "       [ 3.96178334,  1.65324725],\n",
       "       [ 2.47388885,  0.76042659],\n",
       "       [ 1.66781904,  3.71005531],\n",
       "       [ 0.56854833,  3.95332789],\n",
       "       [-1.81865885,  3.04324535],\n",
       "       [ 0.28728953,  5.83183929],\n",
       "       [ 2.18860632,  1.40568881],\n",
       "       [-2.45278822,  2.66804846],\n",
       "       [-0.92915335,  1.9667263 ],\n",
       "       [ 2.3745046 , -1.32041055],\n",
       "       [ 0.27963236,  3.8407076 ],\n",
       "       [ 3.00569136,  1.15121775],\n",
       "       [ 0.76186738,  4.94575244],\n",
       "       [ 1.29814339,  3.75593925],\n",
       "       [-1.62143525,  2.3737397 ],\n",
       "       [-2.0771741 ,  1.94662034],\n",
       "       [ 2.60849852,  1.45346297],\n",
       "       [ 1.77207239, -0.20229737],\n",
       "       [ 2.20249345,  5.47927434],\n",
       "       [-1.91062866,  3.4141689 ],\n",
       "       [ 0.43830172,  4.0161448 ],\n",
       "       [-1.63386526,  3.78007731],\n",
       "       [-0.3278886 ,  4.67401313],\n",
       "       [ 2.9349952 ,  1.42187464],\n",
       "       [ 0.25989683,  4.61330933],\n",
       "       [-1.06612177,  4.8266822 ],\n",
       "       [ 1.46361712,  2.13207534],\n",
       "       [ 0.56762597,  3.35928158],\n",
       "       [-0.43527853,  2.36632291],\n",
       "       [ 1.00254159,  0.52839598],\n",
       "       [-0.35364104,  3.59992381],\n",
       "       [ 0.66640862,  4.06194513],\n",
       "       [ 1.33136066,  4.57072679],\n",
       "       [ 1.88779063,  3.31592667],\n",
       "       [ 2.81480417,  0.96770465],\n",
       "       [-2.00582716,  2.02516467],\n",
       "       [-1.5394497 ,  3.0466248 ],\n",
       "       [ 1.57821629,  0.85560982],\n",
       "       [ 1.68439074,  1.28284884],\n",
       "       [-1.01225244,  1.66138353],\n",
       "       [ 1.2774105 ,  3.42426669],\n",
       "       [ 1.5453179 ,  0.57984621],\n",
       "       [ 0.13742771,  3.16777298],\n",
       "       [-2.93161648,  3.27862983],\n",
       "       [ 0.50624368,  1.04868654],\n",
       "       [-2.42836466,  2.33334006],\n",
       "       [ 1.46753357,  5.04155266],\n",
       "       [-1.30255065,  2.12338337],\n",
       "       [ 1.22787325,  1.44293927],\n",
       "       [ 0.91601879,  0.50300775],\n",
       "       [ 0.86226145,  1.24917702],\n",
       "       [ 1.51410588,  4.6297568 ],\n",
       "       [ 1.80655858,  0.97558379],\n",
       "       [ 1.9765055 ,  0.36688103],\n",
       "       [ 1.73634081,  4.18270156],\n",
       "       [ 1.25509524, -0.33815322],\n",
       "       [-1.13191059,  2.82499911],\n",
       "       [-1.63566377,  3.82739535],\n",
       "       [-1.87964212,  2.69359787],\n",
       "       [ 2.17153334,  4.13966072],\n",
       "       [ 1.10418012,  0.49221058],\n",
       "       [ 2.74073201,  0.37684319],\n",
       "       [ 0.72702805,  4.3487196 ],\n",
       "       [-2.09066423,  3.67249084],\n",
       "       [-2.57212549,  4.24438681],\n",
       "       [ 1.17176085,  0.93939572],\n",
       "       [ 0.46759322,  4.84493396],\n",
       "       [ 2.02384127, -0.03681114],\n",
       "       [-2.36310671,  3.88679849],\n",
       "       [-2.08054389,  4.1469839 ],\n",
       "       [-2.3153126 ,  1.74041426],\n",
       "       [ 1.55954253,  4.40697366],\n",
       "       [ 3.78585628,  1.96688602],\n",
       "       [ 2.67269996,  1.55646698],\n",
       "       [ 1.62097834,  1.2305037 ],\n",
       "       [ 0.42061579,  4.1840797 ],\n",
       "       [ 0.04415021,  5.02444852],\n",
       "       [ 0.31622934,  2.0698696 ],\n",
       "       [-0.853599  ,  2.7183154 ],\n",
       "       [-1.30729093,  2.20515019],\n",
       "       [-1.83480786,  2.99336353],\n",
       "       [ 1.91929374,  4.15984746],\n",
       "       [-0.04011792,  5.07930469],\n",
       "       [ 2.03580662,  0.30723893],\n",
       "       [-0.91357347,  3.20291652],\n",
       "       [ 2.04165119,  1.20098505],\n",
       "       [ 1.02098199,  1.11130436],\n",
       "       [ 0.26604148,  2.71915015],\n",
       "       [ 2.55545268, -0.38398246],\n",
       "       [-0.38874607,  5.86440764],\n",
       "       [ 2.97713277,  1.76135853],\n",
       "       [-0.99379755,  2.54930643],\n",
       "       [-0.96813829,  2.92089897],\n",
       "       [ 2.48279064,  3.22558008],\n",
       "       [-2.88538867,  3.22770664],\n",
       "       [ 0.36033722,  4.73518668],\n",
       "       [ 1.07491911,  1.57315404],\n",
       "       [ 1.14289006,  5.08509856],\n",
       "       [-1.74109084,  2.0154732 ],\n",
       "       [ 2.39627451,  1.43919009],\n",
       "       [ 3.61999737,  1.20973832],\n",
       "       [ 3.25085516, -0.75832436],\n",
       "       [ 2.79207378,  3.14029479],\n",
       "       [-2.10258752,  2.26748787],\n",
       "       [ 1.1372926 ,  0.54740762],\n",
       "       [ 1.09150494,  5.46720613],\n",
       "       [ 2.5146237 ,  5.48819916],\n",
       "       [-0.78142531,  3.18985425],\n",
       "       [-1.7603739 ,  2.30868849],\n",
       "       [ 0.7889168 ,  1.38596716],\n",
       "       [ 1.41253979,  0.34602384],\n",
       "       [ 1.13032158,  1.52262214],\n",
       "       [ 2.95657626,  0.03371845],\n",
       "       [-2.07411273,  4.2455229 ],\n",
       "       [ 2.78341065,  1.15143823],\n",
       "       [ 1.22672424,  3.62051074],\n",
       "       [ 1.47478962, -0.2090275 ]])"
      ]
     },
     "execution_count": 29,
     "metadata": {},
     "output_type": "execute_result"
    }
   ],
   "source": [
    "X"
   ]
  },
  {
   "cell_type": "code",
   "execution_count": 30,
   "id": "8806778d",
   "metadata": {},
   "outputs": [],
   "source": [
    "# Kmeans 객체를 이용해 X 데이터를 K-means 클러스터링 수행\n",
    "kmeans = KMeans(n_clusters = 3, max_iter = 200, random_state = 0)\n",
    "cluster_labels = kmeans.fit_predict(X)\n",
    "clusterDF[\"kmeans_label\"] = cluster_labels"
   ]
  },
  {
   "cell_type": "code",
   "execution_count": 31,
   "id": "d61a933d",
   "metadata": {},
   "outputs": [
    {
     "data": {
      "text/plain": [
       "array([1, 0, 0, 1, 0, 1, 2, 2, 0, 1, 0, 1, 0, 0, 0, 1, 2, 2, 0, 1, 1, 2,\n",
       "       0, 0, 1, 0, 2, 1, 1, 1, 0, 0, 1, 0, 2, 2, 0, 2, 2, 1, 2, 1, 1, 1,\n",
       "       0, 0, 0, 1, 0, 0, 0, 2, 1, 1, 1, 1, 2, 2, 0, 0, 1, 1, 0, 2, 2, 1,\n",
       "       2, 2, 1, 2, 2, 0, 0, 1, 0, 1, 2, 2, 2, 1, 1, 0, 0, 2, 2, 0, 0, 1,\n",
       "       0, 2, 1, 1, 2, 0, 2, 0, 0, 1, 1, 2, 2, 0, 1, 0, 1, 0, 2, 0, 1, 2,\n",
       "       0, 1, 2, 1, 0, 0, 0, 2, 1, 1, 2, 2, 1, 0, 2, 0, 1, 2, 1, 0, 1, 2,\n",
       "       2, 2, 0, 2, 2, 0, 2, 1, 1, 1, 0, 2, 2, 0, 1, 1, 2, 0, 2, 1, 1, 1,\n",
       "       0, 2, 2, 2, 0, 0, 2, 1, 1, 1, 0, 0, 2, 1, 2, 2, 0, 2, 0, 2, 1, 1,\n",
       "       0, 1, 0, 2, 0, 1, 2, 2, 2, 0, 1, 2, 0, 0, 1, 1, 2, 2, 2, 2, 1, 2,\n",
       "       0, 2])"
      ]
     },
     "execution_count": 31,
     "metadata": {},
     "output_type": "execute_result"
    }
   ],
   "source": [
    "cluster_labels"
   ]
  },
  {
   "cell_type": "code",
   "execution_count": 32,
   "id": "cb8736d9",
   "metadata": {},
   "outputs": [
    {
     "data": {
      "text/html": [
       "<div>\n",
       "<style scoped>\n",
       "    .dataframe tbody tr th:only-of-type {\n",
       "        vertical-align: middle;\n",
       "    }\n",
       "\n",
       "    .dataframe tbody tr th {\n",
       "        vertical-align: top;\n",
       "    }\n",
       "\n",
       "    .dataframe thead th {\n",
       "        text-align: right;\n",
       "    }\n",
       "</style>\n",
       "<table border=\"1\" class=\"dataframe\">\n",
       "  <thead>\n",
       "    <tr style=\"text-align: right;\">\n",
       "      <th></th>\n",
       "      <th>ftr1</th>\n",
       "      <th>ftr2</th>\n",
       "      <th>target</th>\n",
       "      <th>kmeans_label</th>\n",
       "    </tr>\n",
       "  </thead>\n",
       "  <tbody>\n",
       "    <tr>\n",
       "      <th>0</th>\n",
       "      <td>-1.692427</td>\n",
       "      <td>3.622025</td>\n",
       "      <td>2</td>\n",
       "      <td>1</td>\n",
       "    </tr>\n",
       "    <tr>\n",
       "      <th>1</th>\n",
       "      <td>0.697940</td>\n",
       "      <td>4.428867</td>\n",
       "      <td>0</td>\n",
       "      <td>0</td>\n",
       "    </tr>\n",
       "    <tr>\n",
       "      <th>2</th>\n",
       "      <td>1.100228</td>\n",
       "      <td>4.606317</td>\n",
       "      <td>0</td>\n",
       "      <td>0</td>\n",
       "    </tr>\n",
       "  </tbody>\n",
       "</table>\n",
       "</div>"
      ],
      "text/plain": [
       "       ftr1      ftr2  target  kmeans_label\n",
       "0 -1.692427  3.622025       2             1\n",
       "1  0.697940  4.428867       0             0\n",
       "2  1.100228  4.606317       0             0"
      ]
     },
     "execution_count": 32,
     "metadata": {},
     "output_type": "execute_result"
    }
   ],
   "source": [
    "clusterDF.head(3)"
   ]
  },
  {
   "cell_type": "code",
   "execution_count": 34,
   "id": "22a72c5c",
   "metadata": {},
   "outputs": [],
   "source": [
    "# cluster_centers_ 는 개별 클러스터의 중심 위치 좌표 시각화를 위해 추출\n",
    "\n",
    "centers = kmeans.cluster_centers_\n",
    "unique_labels = np.unique(cluster_labels)\n",
    "markers=['o', 's', '^', 'P','D','H','x']"
   ]
  },
  {
   "cell_type": "code",
   "execution_count": 35,
   "id": "9afe28d4",
   "metadata": {},
   "outputs": [
    {
     "data": {
      "text/plain": [
       "array([[ 0.990103  ,  4.44666506],\n",
       "       [-1.70636483,  2.92759224],\n",
       "       [ 1.95763312,  0.81041752]])"
      ]
     },
     "execution_count": 35,
     "metadata": {},
     "output_type": "execute_result"
    }
   ],
   "source": [
    "centers"
   ]
  },
  {
   "cell_type": "code",
   "execution_count": 37,
   "id": "b6afdd18",
   "metadata": {},
   "outputs": [
    {
     "data": {
      "text/plain": [
       "array([0, 1, 2])"
      ]
     },
     "execution_count": 37,
     "metadata": {},
     "output_type": "execute_result"
    }
   ],
   "source": [
    "unique_labels"
   ]
  },
  {
   "cell_type": "code",
   "execution_count": 60,
   "id": "4c007879",
   "metadata": {},
   "outputs": [
    {
     "data": {
      "image/png": "[encoded data removed]",
      "text/plain": [
       "<Figure size 432x288 with 1 Axes>"
      ]
     },
     "metadata": {
      "needs_background": "dark"
     },
     "output_type": "display_data"
    }
   ],
   "source": [
    "# KMeans 객체를 이용하여 X 데이터를 K-Means 클러스터링 수행 \n",
    "kmeans = KMeans(n_clusters=3, init='k-means++', max_iter=200, random_state=0)\n",
    "cluster_labels = kmeans.fit_predict(X)\n",
    "clusterDF['kmeans_label']  = cluster_labels\n",
    "\n",
    "#cluster_centers_ 는 개별 클러스터의 중심 위치 좌표 시각화를 위해 추출\n",
    "centers = kmeans.cluster_centers_\n",
    "unique_labels = np.unique(cluster_labels)\n",
    "markers=['o', 's', '^', 'P','D','H','x']\n",
    "\n",
    "# 군집된 label 유형별로 iteration 하면서 marker 별로 scatter plot 수행. \n",
    "for label in unique_labels:\n",
    "    label_cluster = clusterDF[clusterDF['kmeans_label']==label]\n",
    "    center_x_y = centers[label]\n",
    "    plt.scatter(x=label_cluster['ftr1'], y=label_cluster['ftr2'], edgecolor='k', \n",
    "                marker=markers[label] )\n",
    "    \n",
    "    # 군집별 중심 위치 좌표 시각화 \n",
    "    plt.scatter(x=center_x_y[0], y=center_x_y[1], s=200, color='white',alpha=0.9, edgecolor='k', marker=markers[label])\n",
    "    plt.scatter(x=center_x_y[0], y=center_x_y[1], s=70, color='k', edgecolor='r', marker='$%d$' % label)\n",
    "\n",
    "plt.show()"
   ]
  },
  {
   "cell_type": "code",
   "execution_count": 63,
   "id": "0e3ce1fc",
   "metadata": {},
   "outputs": [
    {
     "name": "stdout",
     "output_type": "stream",
     "text": [
      "target  kmeans_label\n",
      "0       0               66\n",
      "        1                1\n",
      "1       2               67\n",
      "2       1               65\n",
      "        2                1\n",
      "Name: kmeans_label, dtype: int64\n"
     ]
    }
   ],
   "source": [
    "print(clusterDF.groupby([\"target\"])[\"kmeans_label\"].value_counts())"
   ]
  },
  {
   "cell_type": "markdown",
   "id": "594f3dd2",
   "metadata": {},
   "source": [
    "# 붓꽃 데이터 세트를 이용한 군집 평가"
   ]
  },
  {
   "cell_type": "code",
   "execution_count": 71,
   "id": "bd4cef88",
   "metadata": {},
   "outputs": [
    {
     "name": "stdout",
     "output_type": "stream",
     "text": [
      "silhouette_samples( ) return 값의 shape (150,)\n",
      "붓꽃 데이터셋 Silhouette Analysis Score:0.553\n"
     ]
    },
    {
     "data": {
      "text/html": [
       "<div>\n",
       "<style scoped>\n",
       "    .dataframe tbody tr th:only-of-type {\n",
       "        vertical-align: middle;\n",
       "    }\n",
       "\n",
       "    .dataframe tbody tr th {\n",
       "        vertical-align: top;\n",
       "    }\n",
       "\n",
       "    .dataframe thead th {\n",
       "        text-align: right;\n",
       "    }\n",
       "</style>\n",
       "<table border=\"1\" class=\"dataframe\">\n",
       "  <thead>\n",
       "    <tr style=\"text-align: right;\">\n",
       "      <th></th>\n",
       "      <th>sepal_length</th>\n",
       "      <th>sepal_width</th>\n",
       "      <th>petal_length</th>\n",
       "      <th>petal_width</th>\n",
       "      <th>cluster</th>\n",
       "      <th>silhouette_coeff</th>\n",
       "    </tr>\n",
       "  </thead>\n",
       "  <tbody>\n",
       "    <tr>\n",
       "      <th>0</th>\n",
       "      <td>5.1</td>\n",
       "      <td>3.5</td>\n",
       "      <td>1.4</td>\n",
       "      <td>0.2</td>\n",
       "      <td>1</td>\n",
       "      <td>0.852955</td>\n",
       "    </tr>\n",
       "    <tr>\n",
       "      <th>1</th>\n",
       "      <td>4.9</td>\n",
       "      <td>3.0</td>\n",
       "      <td>1.4</td>\n",
       "      <td>0.2</td>\n",
       "      <td>1</td>\n",
       "      <td>0.815495</td>\n",
       "    </tr>\n",
       "    <tr>\n",
       "      <th>2</th>\n",
       "      <td>4.7</td>\n",
       "      <td>3.2</td>\n",
       "      <td>1.3</td>\n",
       "      <td>0.2</td>\n",
       "      <td>1</td>\n",
       "      <td>0.829315</td>\n",
       "    </tr>\n",
       "  </tbody>\n",
       "</table>\n",
       "</div>"
      ],
      "text/plain": [
       "   sepal_length  sepal_width  petal_length  petal_width  cluster  \\\n",
       "0           5.1          3.5           1.4          0.2        1   \n",
       "1           4.9          3.0           1.4          0.2        1   \n",
       "2           4.7          3.2           1.3          0.2        1   \n",
       "\n",
       "   silhouette_coeff  \n",
       "0          0.852955  \n",
       "1          0.815495  \n",
       "2          0.829315  "
      ]
     },
     "execution_count": 71,
     "metadata": {},
     "output_type": "execute_result"
    }
   ],
   "source": [
    "from sklearn.preprocessing import scale\n",
    "from sklearn.datasets import load_iris\n",
    "from sklearn.cluster import KMeans\n",
    "# 실루엣 분석 metric 값을 구하기 위한 API 추가\n",
    "from sklearn.metrics import silhouette_samples, silhouette_score\n",
    "import matplotlib.pyplot as plt\n",
    "import numpy as np\n",
    "import pandas as pd\n",
    "\n",
    "%matplotlib inline\n",
    "\n",
    "iris = load_iris()\n",
    "feature_names = ['sepal_length','sepal_width','petal_length','petal_width']\n",
    "irisDF = pd.DataFrame(data=iris.data, columns=feature_names)\n",
    "kmeans = KMeans(n_clusters=3, init='k-means++', max_iter=300,random_state=0).fit(irisDF)\n",
    "\n",
    "irisDF['cluster'] = kmeans.labels_\n",
    "\n",
    "# iris 의 모든 개별 데이터에 실루엣 계수값을 구함. \n",
    "score_samples = silhouette_samples(iris.data, irisDF['cluster'])\n",
    "print('silhouette_samples( ) return 값의 shape' , score_samples.shape)\n",
    "\n",
    "\n",
    "# irisDF에 실루엣 계수 컬럼 추가\n",
    "irisDF['silhouette_coeff'] = score_samples\n",
    "\n",
    "# 모든 데이터의 평균 실루엣 계수값을 구함. \n",
    "average_score = silhouette_score(iris.data, irisDF['cluster'])\n",
    "print('붓꽃 데이터셋 Silhouette Analysis Score:{0:.3f}'.format(average_score))\n",
    "\n",
    "irisDF.head(3)\n",
    "\n"
   ]
  },
  {
   "cell_type": "code",
   "execution_count": 73,
   "id": "43051084",
   "metadata": {},
   "outputs": [
    {
     "data": {
      "text/plain": [
       "cluster\n",
       "0    0.417320\n",
       "1    0.798140\n",
       "2    0.451105\n",
       "Name: silhouette_coeff, dtype: float64"
      ]
     },
     "execution_count": 73,
     "metadata": {},
     "output_type": "execute_result"
    }
   ],
   "source": [
    "irisDF.groupby('cluster')['silhouette_coeff'].mean()"
   ]
  },
  {
   "cell_type": "code",
   "execution_count": 69,
   "id": "e084ee99",
   "metadata": {},
   "outputs": [
    {
     "data": {
      "text/plain": [
       "array([1, 1, 1, 1, 1, 1, 1, 1, 1, 1, 1, 1, 1, 1, 1, 1, 1, 1, 1, 1, 1, 1,\n",
       "       1, 1, 1, 1, 1, 1, 1, 1, 1, 1, 1, 1, 1, 1, 1, 1, 1, 1, 1, 1, 1, 1,\n",
       "       1, 1, 1, 1, 1, 1, 0, 0, 2, 0, 0, 0, 0, 0, 0, 0, 0, 0, 0, 0, 0, 0,\n",
       "       0, 0, 0, 0, 0, 0, 0, 0, 0, 0, 0, 2, 0, 0, 0, 0, 0, 0, 0, 0, 0, 0,\n",
       "       0, 0, 0, 0, 0, 0, 0, 0, 0, 0, 0, 0, 2, 0, 2, 2, 2, 2, 0, 2, 2, 2,\n",
       "       2, 2, 2, 0, 0, 2, 2, 2, 2, 0, 2, 0, 2, 0, 2, 2, 0, 0, 2, 2, 2, 2,\n",
       "       2, 0, 2, 2, 2, 2, 0, 2, 2, 2, 0, 2, 2, 2, 0, 2, 2, 0])"
      ]
     },
     "execution_count": 69,
     "metadata": {},
     "output_type": "execute_result"
    }
   ],
   "source": [
    "kmeans.labels_\n"
   ]
  },
  {
   "cell_type": "code",
   "execution_count": 70,
   "id": "3a76d670",
   "metadata": {},
   "outputs": [
    {
     "data": {
      "text/plain": [
       "array([0.85295506, 0.81549476, 0.8293151 , 0.80501395, 0.8493016 ,\n",
       "       0.74828037, 0.82165093, 0.85390505, 0.75215011, 0.825294  ,\n",
       "       0.80310303, 0.83591262, 0.81056389, 0.74615046, 0.70259371,\n",
       "       0.64377156, 0.77568391, 0.85101831, 0.70685782, 0.82030124,\n",
       "       0.78418399, 0.82590584, 0.79297218, 0.7941134 , 0.77503635,\n",
       "       0.79865509, 0.83346695, 0.84201773, 0.84364429, 0.81784646,\n",
       "       0.81518962, 0.79899235, 0.76272528, 0.72224615, 0.82877171,\n",
       "       0.83224831, 0.79415322, 0.84188954, 0.76856774, 0.85033231,\n",
       "       0.84941579, 0.63900017, 0.78657771, 0.80023815, 0.74698726,\n",
       "       0.80977534, 0.81340268, 0.81902059, 0.8182324 , 0.85209835,\n",
       "       0.02672203, 0.38118643, 0.05340075, 0.59294381, 0.36885321,\n",
       "       0.59221025, 0.28232583, 0.26525405, 0.34419223, 0.57829491,\n",
       "       0.37478707, 0.58710354, 0.55107857, 0.48216686, 0.56310057,\n",
       "       0.32459291, 0.55751057, 0.61072967, 0.46149897, 0.6115753 ,\n",
       "       0.32909528, 0.58968904, 0.31046301, 0.49424779, 0.5000461 ,\n",
       "       0.38548959, 0.12629433, 0.11798213, 0.55293611, 0.5069822 ,\n",
       "       0.59466094, 0.5607585 , 0.61972579, 0.26087292, 0.54077013,\n",
       "       0.41598629, 0.16655431, 0.48935747, 0.60716023, 0.61436443,\n",
       "       0.59560929, 0.50352722, 0.62444848, 0.29362234, 0.62754454,\n",
       "       0.60657448, 0.62205599, 0.55780204, 0.14131742, 0.63064081,\n",
       "       0.49927538, 0.23225278, 0.61193633, 0.36075942, 0.5577792 ,\n",
       "       0.54384277, 0.46682151, 0.55917348, 0.44076207, 0.56152256,\n",
       "       0.26062588, 0.22965423, 0.55509948, 0.28503067, 0.02635881,\n",
       "       0.39825264, 0.42110831, 0.49486598, 0.48341063, 0.32868889,\n",
       "       0.6070348 , 0.33355947, 0.51237366, 0.20297372, 0.580154  ,\n",
       "       0.57818326, 0.30904249, 0.25226992, 0.45434264, 0.51608826,\n",
       "       0.56017398, 0.48442397, 0.46255248, 0.13900039, 0.05328614,\n",
       "       0.55186784, 0.45549975, 0.3887791 , 0.35124673, 0.53444618,\n",
       "       0.5702338 , 0.41025549, 0.23225278, 0.61324746, 0.5670778 ,\n",
       "       0.42513648, 0.10417086, 0.31493016, 0.35245379, 0.18544229])"
      ]
     },
     "execution_count": 70,
     "metadata": {},
     "output_type": "execute_result"
    }
   ],
   "source": [
    "score_samples"
   ]
  },
  {
   "cell_type": "code",
   "execution_count": 74,
   "id": "37cd3978",
   "metadata": {},
   "outputs": [],
   "source": [
    "### 여러개의 클러스터링 갯수를 List로 입력 받아 각각의 실루엣 계수를 면적으로 시각화한 함수 작성\n",
    "def visualize_silhouette(cluster_lists, X_features): \n",
    "    \n",
    "    from sklearn.datasets import make_blobs\n",
    "    from sklearn.cluster import KMeans\n",
    "    from sklearn.metrics import silhouette_samples, silhouette_score\n",
    "\n",
    "    import matplotlib.pyplot as plt\n",
    "    import matplotlib.cm as cm\n",
    "    import math\n",
    "    \n",
    "    # 입력값으로 클러스터링 갯수들을 리스트로 받아서, 각 갯수별로 클러스터링을 적용하고 실루엣 개수를 구함\n",
    "    n_cols = len(cluster_lists)\n",
    "    \n",
    "    # plt.subplots()으로 리스트에 기재된 클러스터링 수만큼의 sub figures를 가지는 axs 생성 \n",
    "    fig, axs = plt.subplots(figsize=(4*n_cols, 4), nrows=1, ncols=n_cols)\n",
    "    \n",
    "    # 리스트에 기재된 클러스터링 갯수들을 차례로 iteration 수행하면서 실루엣 개수 시각화\n",
    "    for ind, n_cluster in enumerate(cluster_lists):\n",
    "        \n",
    "        # KMeans 클러스터링 수행하고, 실루엣 스코어와 개별 데이터의 실루엣 값 계산. \n",
    "        clusterer = KMeans(n_clusters = n_cluster, max_iter=500, random_state=0)\n",
    "        cluster_labels = clusterer.fit_predict(X_features)\n",
    "        \n",
    "        sil_avg = silhouette_score(X_features, cluster_labels)\n",
    "        sil_values = silhouette_samples(X_features, cluster_labels)\n",
    "        \n",
    "        y_lower = 10\n",
    "        axs[ind].set_title('Number of Cluster : '+ str(n_cluster)+'\\n' \\\n",
    "                          'Silhouette Score :' + str(round(sil_avg,3)) )\n",
    "        axs[ind].set_xlabel(\"The silhouette coefficient values\")\n",
    "        axs[ind].set_ylabel(\"Cluster label\")\n",
    "        axs[ind].set_xlim([-0.1, 1])\n",
    "        axs[ind].set_ylim([0, len(X_features) + (n_cluster + 1) * 10])\n",
    "        axs[ind].set_yticks([])  # Clear the yaxis labels / ticks\n",
    "        axs[ind].set_xticks([0, 0.2, 0.4, 0.6, 0.8, 1])\n",
    "        \n",
    "        # 클러스터링 갯수별로 fill_betweenx( )형태의 막대 그래프 표현. \n",
    "        for i in range(n_cluster):\n",
    "            ith_cluster_sil_values = sil_values[cluster_labels==i]\n",
    "            ith_cluster_sil_values.sort()\n",
    "            \n",
    "            size_cluster_i = ith_cluster_sil_values.shape[0]\n",
    "            y_upper = y_lower + size_cluster_i\n",
    "            \n",
    "            color = cm.nipy_spectral(float(i) / n_cluster)\n",
    "            axs[ind].fill_betweenx(np.arange(y_lower, y_upper), 0, ith_cluster_sil_values, \\\n",
    "                                facecolor=color, edgecolor=color, alpha=0.7)\n",
    "            axs[ind].text(-0.05, y_lower + 0.5 * size_cluster_i, str(i))\n",
    "            y_lower = y_upper + 10\n",
    "            \n",
    "        axs[ind].axvline(x=sil_avg, color=\"red\", linestyle=\"--\")"
   ]
  },
  {
   "cell_type": "code",
   "execution_count": 75,
   "id": "bbae8c2f",
   "metadata": {},
   "outputs": [
    {
     "data": {
      "image/png": "[encoded data removed]",
      "text/plain": [
       "<Figure size 1152x288 with 4 Axes>"
      ]
     },
     "metadata": {
      "needs_background": "dark"
     },
     "output_type": "display_data"
    }
   ],
   "source": [
    "# make_blobs 을 통해 clustering 을 위한 4개의 클러스터 중심의 500개 2차원 데이터 셋 생성  \n",
    "from sklearn.datasets import make_blobs\n",
    "X, y = make_blobs(n_samples=500, n_features=2, centers=4, cluster_std=1, \\\n",
    "                  center_box=(-10.0, 10.0), shuffle=True, random_state=1)  \n",
    "\n",
    "# cluster 개수를 2개, 3개, 4개, 5개 일때의 클러스터별 실루엣 계수 평균값을 시각화 \n",
    "visualize_silhouette([ 2, 3, 4, 5], X)"
   ]
  },
  {
   "cell_type": "code",
   "execution_count": 76,
   "id": "c95e5a98",
   "metadata": {},
   "outputs": [
    {
     "data": {
      "image/png": "[encoded data removed]",
      "text/plain": [
       "<Figure size 1152x288 with 4 Axes>"
      ]
     },
     "metadata": {
      "needs_background": "dark"
     },
     "output_type": "display_data"
    }
   ],
   "source": [
    "from sklearn.datasets import load_iris\n",
    "\n",
    "iris=load_iris()\n",
    "visualize_silhouette([ 2, 3, 4,5 ], iris.data)"
   ]
  },
  {
   "cell_type": "markdown",
   "id": "2b6ee5be",
   "metadata": {},
   "source": [
    "# 평균 이동"
   ]
  },
  {
   "cell_type": "code",
   "execution_count": 77,
   "id": "08735c6b",
   "metadata": {},
   "outputs": [
    {
     "name": "stdout",
     "output_type": "stream",
     "text": [
      "cluster labels 유형 :  [0 1 2 3 4 5]\n"
     ]
    }
   ],
   "source": [
    "import numpy as np\n",
    "from sklearn.datasets import make_blobs\n",
    "from sklearn.cluster import MeanShift\n",
    "\n",
    "X, y = make_blobs(n_samples = 200, n_features = 2, centers = 3, cluster_std = 0.7, random_state = 0)\n",
    "\n",
    "meanshift = MeanShift(bandwidth = 0.8)\n",
    "cluster_labels = meanshift.fit_predict(X)\n",
    "print(\"cluster labels 유형 : \", np.unique(cluster_labels))"
   ]
  },
  {
   "cell_type": "code",
   "execution_count": 78,
   "id": "04e44a66",
   "metadata": {},
   "outputs": [
    {
     "name": "stdout",
     "output_type": "stream",
     "text": [
      "bandwidth 값 :  1.816\n"
     ]
    }
   ],
   "source": [
    "from sklearn.cluster import estimate_bandwidth\n",
    "\n",
    "bandwidth = estimate_bandwidth(X)\n",
    "print(\"bandwidth 값 : \", round(bandwidth,3))"
   ]
  },
  {
   "cell_type": "code",
   "execution_count": 80,
   "id": "ebae9224",
   "metadata": {},
   "outputs": [
    {
     "data": {
      "text/plain": [
       "array([[-1.67173659,  3.5340075 ],\n",
       "       [ 0.73273157,  4.41323161],\n",
       "       [ 1.08473328,  4.56850109],\n",
       "       [-1.45849654,  3.32594984],\n",
       "       [ 1.1850368 ,  5.23225746]])"
      ]
     },
     "execution_count": 80,
     "metadata": {},
     "output_type": "execute_result"
    }
   ],
   "source": [
    "X[:5]"
   ]
  },
  {
   "cell_type": "code",
   "execution_count": 82,
   "id": "733052d6",
   "metadata": {},
   "outputs": [
    {
     "name": "stdout",
     "output_type": "stream",
     "text": [
      "cluster labels 유형 :  [0 1 2]\n"
     ]
    }
   ],
   "source": [
    "import pandas as pd\n",
    "\n",
    "clusterDF = pd.DataFrame(data = X, columns = [\"ftr1\",\"ftr2\"])\n",
    "clusterDF[\"target\"] = y\n",
    "\n",
    "# estimate_bandwidth()로 최적의 bandwidth 계산\n",
    "best_bandwidth = estimate_bandwidth(X)\n",
    "\n",
    "meanshift = MeanShift(bandwidth = best_bandwidth)\n",
    "cluster_labels = meanshift.fit_predict(X)\n",
    "print(\"cluster labels 유형 : \", np.unique(cluster_labels))"
   ]
  },
  {
   "cell_type": "code",
   "execution_count": 89,
   "id": "ca194ffd",
   "metadata": {},
   "outputs": [
    {
     "data": {
      "image/png": "[encoded data removed]",
      "text/plain": [
       "<Figure size 432x288 with 1 Axes>"
      ]
     },
     "metadata": {
      "needs_background": "dark"
     },
     "output_type": "display_data"
    }
   ],
   "source": [
    "import matplotlib.pyplot as plt\n",
    "%matplotlib inline\n",
    "\n",
    "clusterDF['meanshift_label']  = cluster_labels\n",
    "centers = meanshift.cluster_centers_\n",
    "unique_labels = np.unique(cluster_labels)\n",
    "markers=['o', 's', '^', 'x', '*']\n",
    "\n",
    "for label in unique_labels:\n",
    "    label_cluster = clusterDF[clusterDF['meanshift_label']==label]\n",
    "    center_x_y = centers[label]\n",
    "    # 군집별로 다른 마커로 산점도 적용\n",
    "    plt.scatter(x=label_cluster['ftr1'], y=label_cluster['ftr2'], edgecolor='k', marker=markers[label] )\n",
    "    \n",
    "    # 군집별 중심 표현\n",
    "    plt.scatter(x=center_x_y[0], y=center_x_y[1], s=200, color='gray', alpha=0.9, marker=markers[label])\n",
    "    plt.scatter(x=center_x_y[0], y=center_x_y[1], s=70, color='r', edgecolor='k', marker='$%d$' % label)\n",
    "    \n",
    "plt.show()"
   ]
  },
  {
   "cell_type": "code",
   "execution_count": 90,
   "id": "fbfdc868",
   "metadata": {},
   "outputs": [
    {
     "name": "stdout",
     "output_type": "stream",
     "text": [
      "target  meanshift_label\n",
      "0       0                  67\n",
      "1       1                  67\n",
      "2       2                  66\n",
      "Name: meanshift_label, dtype: int64\n"
     ]
    }
   ],
   "source": [
    "print(clusterDF.groupby('target')['meanshift_label'].value_counts())"
   ]
  },
  {
   "cell_type": "code",
   "execution_count": null,
   "id": "3673e9d2",
   "metadata": {},
   "outputs": [],
   "source": []
  },
  {
   "cell_type": "code",
   "execution_count": null,
   "id": "f1b9da82",
   "metadata": {},
   "outputs": [],
   "source": []
  },
  {
   "cell_type": "code",
   "execution_count": null,
   "id": "09a0d872",
   "metadata": {},
   "outputs": [],
   "source": []
  },
  {
   "cell_type": "code",
   "execution_count": null,
   "id": "e45e87c2",
   "metadata": {},
   "outputs": [],
   "source": []
  }
 ],
 "metadata": {
  "kernelspec": {
   "display_name": "Python 3 (ipykernel)",
   "language": "python",
   "name": "python3"
  },
  "language_info": {
   "codemirror_mode": {
    "name": "ipython",
    "version": 3
   },
   "file_extension": ".py",
   "mimetype": "text/x-python",
   "name": "python",
   "nbconvert_exporter": "python",
   "pygments_lexer": "ipython3",
   "version": "3.8.8"
  }
 },
 "nbformat": 4,
 "nbformat_minor": 5
}
